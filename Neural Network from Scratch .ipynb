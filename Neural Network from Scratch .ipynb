{
 "cells": [
  {
   "cell_type": "markdown",
   "metadata": {},
   "source": [
    "## Introduction \n",
    "\n",
    "In this notebook, we will try and build a neural network from scratch. The problem that we will aim to solve is the XOR Classification problem. "
   ]
  },
  {
   "cell_type": "markdown",
   "metadata": {},
   "source": [
    "### The XOR classification problem\n",
    "\n",
    "#### What is an XOR Gate?\n",
    "\n",
    "#### The Truth Table\n",
    "\n",
    "#### The Problem"
   ]
  },
  {
   "cell_type": "code",
   "execution_count": 10,
   "metadata": {},
   "outputs": [],
   "source": [
    "from numpy import exp, array, random, dot\n",
    "import numpy as np\n",
    "import pickle"
   ]
  },
  {
   "cell_type": "markdown",
   "metadata": {},
   "source": [
    "#### Data"
   ]
  },
  {
   "cell_type": "code",
   "execution_count": 11,
   "metadata": {},
   "outputs": [
    {
     "data": {
      "text/plain": [
       "(4, 3)"
      ]
     },
     "execution_count": 11,
     "metadata": {},
     "output_type": "execute_result"
    }
   ],
   "source": [
    "X=np.array([[1,0,1],[0,1,0],[0,1,1], [1,0,0]])\n",
    "X.shape"
   ]
  },
  {
   "cell_type": "code",
   "execution_count": 12,
   "metadata": {},
   "outputs": [],
   "source": [
    "y=np.array([[0],[1],[0],[1]])"
   ]
  },
  {
   "cell_type": "markdown",
   "metadata": {},
   "source": [
    "#### Activation (Sigmoid)"
   ]
  },
  {
   "cell_type": "code",
   "execution_count": 13,
   "metadata": {},
   "outputs": [],
   "source": [
    "#Sigmoid Function\n",
    "def sigmoid (x):\n",
    "    return 1/(1 + np.exp(-x))\n",
    "\n",
    "#Derivative of Sigmoid Function\n",
    "def derivatives_sigmoid(x):\n",
    "    return x * (1 - x)"
   ]
  },
  {
   "cell_type": "markdown",
   "metadata": {},
   "source": [
    "#### Architecture"
   ]
  },
  {
   "cell_type": "code",
   "execution_count": 14,
   "metadata": {},
   "outputs": [],
   "source": [
    "#Variable initialization\n",
    "epoch=5000 #Setting training iterations\n",
    "inputlayer_neurons = X.shape[1] ## Dimension of the Input\n",
    "hiddenlayer_neurons = 4 ## number of hidden layers neurons\n",
    "output_neurons = 1 ## number of neurons at output layer"
   ]
  },
  {
   "cell_type": "markdown",
   "metadata": {},
   "source": [
    "#### Training"
   ]
  },
  {
   "cell_type": "code",
   "execution_count": 15,
   "metadata": {},
   "outputs": [],
   "source": [
    "def train(epoch, step, lr=0.1):\n",
    "    \n",
    "    ## Weights of the hidden layer\n",
    "    wh=np.random.uniform(size=(inputlayer_neurons,hiddenlayer_neurons))\n",
    "    print(\"wh shape\", wh.shape)\n",
    "    ## print(\"initial hidden layer weights\", wh)\n",
    "\n",
    "    ## Weights of the output layer\n",
    "    wout=np.random.uniform(size=(hiddenlayer_neurons,output_neurons))\n",
    "    print(\"wout shape\", wout.shape)\n",
    "    ## print(\"initial output layer weights\", wout)\n",
    "    \n",
    "    for i in range(epoch):\n",
    "\n",
    "        ## Forward Pass\n",
    "        hidden_layer_input=np.dot(X,wh)\n",
    "        hiddenlayer_activations = sigmoid(hidden_layer_input)\n",
    "        \n",
    "        output_layer_input=np.dot(hiddenlayer_activations,wout)\n",
    "        output = sigmoid(output_layer_input)\n",
    "\n",
    "        ## Backpropagation\n",
    "        E = y-output\n",
    "        \n",
    "        #print(\"y\", y)\n",
    "        #print(\"output\", output)\n",
    "        #print(\"E\", E)\n",
    "        \n",
    "        slope_output_layer = derivatives_sigmoid(output)    \n",
    "        delta_out = E * slope_output_layer\n",
    "        wout += hiddenlayer_activations.T.dot(delta_out) *lr\n",
    "        \n",
    "        slope_hidden_layer = derivatives_sigmoid(hiddenlayer_activations)\n",
    "        Error_at_hidden_layer = delta_out.dot(wout.T)\n",
    "        delta_hiddenlayer = Error_at_hidden_layer * slope_hidden_layer\n",
    "        \n",
    "        wh += X.T.dot(delta_hiddenlayer) *lr\n",
    "        \n",
    "        if(i % step == 0 ):\n",
    "            print(\"Error:\", np.mean(np.abs(Error_at_hidden_layer)))\n",
    "\n",
    "    print(\"===============================================\")\n",
    "    print(\"Model:\")\n",
    "    print(\"===============================================\")\n",
    "    print(\"hidden layer weights\", wh)\n",
    "    print(\"output layer weights\", wout)\n",
    "    print(\"===============================================\")\n",
    "    \n",
    "    print(\"output\")\n",
    "    print(\"===============================================\")\n",
    "    print(output)\n",
    "    print(\"===============================================\")\n",
    "    ## Save the models\n",
    "    np.save(open(\"HiddenLayerWeights.npy\", \"wb\"), wh)\n",
    "    np.save(open(\"OutputLayerWeights.npy\", \"wb\"), wout)"
   ]
  },
  {
   "cell_type": "code",
   "execution_count": 16,
   "metadata": {},
   "outputs": [
    {
     "name": "stdout",
     "output_type": "stream",
     "text": [
      "(3,)\n",
      "(3,)\n",
      "6\n"
     ]
    }
   ],
   "source": [
    "a = np.array([2,3,1])\n",
    "print(a.shape)\n",
    "b = np.array([1,1,1])\n",
    "print(b.shape)\n",
    "print(np.dot(a,b))"
   ]
  },
  {
   "cell_type": "code",
   "execution_count": 18,
   "metadata": {},
   "outputs": [
    {
     "name": "stdout",
     "output_type": "stream",
     "text": [
      "wh shape (3, 4)\n",
      "wout shape (4, 1)\n",
      "Error: 0.03731534415756321\n",
      "Error: 0.026213289636965793\n",
      "Error: 0.008131540898557124\n",
      "Error: 0.004617062517152449\n",
      "Error: 0.0031931780805735336\n",
      "Error: 0.0024315506452282226\n",
      "Error: 0.001959754168894565\n",
      "Error: 0.0016396511820239827\n",
      "Error: 0.0014085780676232743\n",
      "Error: 0.0012341023290794353\n",
      "Error: 0.0010977919011333128\n",
      "Error: 0.0009884117520757526\n",
      "Error: 0.0008987305004093541\n",
      "Error: 0.0008238863097335984\n",
      "Error: 0.0007604916161089187\n",
      "Error: 0.0007061146908259717\n",
      "Error: 0.0006589653113111727\n",
      "Error: 0.0006176966590070838\n",
      "Error: 0.0005812762658383392\n",
      "Error: 0.0005488995000928114\n",
      "Error: 0.0005199301000503205\n",
      "Error: 0.0004938583875138997\n",
      "Error: 0.0004702713238268816\n",
      "Error: 0.00044883067283171124\n",
      "Error: 0.0004292568228584666\n",
      "Error: 0.0004113166290590257\n",
      "Error: 0.00039481415779329547\n",
      "Error: 0.0003795835564520095\n",
      "Error: 0.00036548350071986975\n",
      "Error: 0.00035239282691682536\n",
      "Error: 0.0003402070646943696\n",
      "Error: 0.0003288356609011994\n",
      "Error: 0.00031819973915979367\n",
      "Error: 0.00030823027838910056\n",
      "Error: 0.0002988666216999059\n",
      "Error: 0.00029005524785129185\n",
      "Error: 0.00028174875290205435\n",
      "Error: 0.00027390500129006643\n",
      "Error: 0.0002664864143603306\n",
      "Error: 0.0002594593710762516\n",
      "Error: 0.0002527937008177706\n",
      "Error: 0.00024646225217967924\n",
      "Error: 0.00024044052481527796\n",
      "Error: 0.00023470635383319194\n",
      "Error: 0.0002292396382032213\n",
      "Error: 0.00022402210617819736\n",
      "Error: 0.00021903711197972426\n",
      "Error: 0.00021426945899480048\n",
      "Error: 0.00020970524553803484\n",
      "Error: 0.00020533172989112996\n",
      "===============================================\n",
      "Model:\n",
      "===============================================\n",
      "hidden layer weights [[ 0.47566882  1.74648708 -1.22456238  0.13003183]\n",
      " [ 0.84795847  1.66754861 -1.15477036  0.35226109]\n",
      " [-2.25192211 -4.40188375  3.62302171  1.27869078]]\n",
      "output layer weights [[ 2.45878627]\n",
      " [ 6.19922562]\n",
      " [-4.94739364]\n",
      " [-1.40845878]]\n",
      "===============================================\n",
      "output\n",
      "===============================================\n",
      "[[0.00736132]\n",
      " [0.99278308]\n",
      " [0.00757003]\n",
      " [0.99276386]]\n",
      "===============================================\n"
     ]
    }
   ],
   "source": [
    "train(50000, 1000)"
   ]
  },
  {
   "cell_type": "markdown",
   "metadata": {},
   "source": [
    "#### Predict"
   ]
  },
  {
   "cell_type": "code",
   "execution_count": 20,
   "metadata": {},
   "outputs": [
    {
     "name": "stdout",
     "output_type": "stream",
     "text": [
      "[[ 0.47566882  1.74648708 -1.22456238  0.13003183]\n",
      " [ 0.84795847  1.66754861 -1.15477036  0.35226109]\n",
      " [-2.25192211 -4.40188375  3.62302171  1.27869078]]\n",
      "[[ 2.45878627]\n",
      " [ 6.19922562]\n",
      " [-4.94739364]\n",
      " [-1.40845878]]\n"
     ]
    }
   ],
   "source": [
    "wh = np.load((open(\"HiddenLayerWeights.npy\", \"rb\")))\n",
    "wout = np.load((open(\"OutputLayerWeights.npy\", \"rb\")))\n",
    "\n",
    "print(wh)\n",
    "print(wout)"
   ]
  },
  {
   "cell_type": "code",
   "execution_count": 21,
   "metadata": {},
   "outputs": [
    {
     "name": "stdout",
     "output_type": "stream",
     "text": [
      "[[0.00756995]\n",
      " [0.99278316]]\n"
     ]
    }
   ],
   "source": [
    "newX = [[0,1,1], [0,1,0]]\n",
    "\n",
    "hidden_layer_input=np.dot(newX,wh)\n",
    "hiddenlayer_activations = sigmoid(hidden_layer_input)\n",
    "output_layer_input=np.dot(hiddenlayer_activations,wout)\n",
    "output = sigmoid(output_layer_input)\n",
    "print(output)"
   ]
  },
  {
   "cell_type": "markdown",
   "metadata": {},
   "source": [
    "References: \n",
    "\n",
    "1. [Neural network](https://www.analyticsvidhya.com/blog/2017/05/neural-network-from-scratch-in-python-and-r/)\n",
    "2. [Build a neural netowrk in 4 minuts](https://www.youtube.com/watch?v=h3l4qz76JhQ)\n",
    "3. [Gradient Descent](https://www.analyticsvidhya.com/blog/2017/03/introduction-to-gradient-descent-algorithm-along-its-variants/)"
   ]
  }
 ],
 "metadata": {
  "kernelspec": {
   "display_name": "Python 3",
   "language": "python",
   "name": "python3"
  }
 },
 "nbformat": 4,
 "nbformat_minor": 2
}
