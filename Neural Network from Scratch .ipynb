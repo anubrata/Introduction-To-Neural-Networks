{
 "cells": [
  {
   "cell_type": "markdown",
   "metadata": {},
   "source": [
    "## Introduction \n",
    "\n",
    "In this notebook, we will try and build a neural network from scratch. The problem that we will aim to solve is the XOR Classification problem. "
   ]
  },
  {
   "cell_type": "markdown",
   "metadata": {},
   "source": [
    "### The XOR classification problem\n",
    "\n",
    "#### What is an XOR Gate?\n",
    "\n",
    "#### The Truth Table\n",
    "\n",
    "#### The Problem"
   ]
  },
  {
   "cell_type": "code",
   "execution_count": 1,
   "metadata": {},
   "outputs": [],
   "source": [
    "from numpy import exp, array, random, dot\n",
    "import numpy as np\n",
    "import pickle"
   ]
  },
  {
   "cell_type": "markdown",
   "metadata": {},
   "source": [
    "#### Data"
   ]
  },
  {
   "cell_type": "code",
   "execution_count": 2,
   "metadata": {},
   "outputs": [],
   "source": [
    "X=np.array([[1,0,1],[0,1,0],[0,1,1], [1,0,0]])"
   ]
  },
  {
   "cell_type": "code",
   "execution_count": 3,
   "metadata": {},
   "outputs": [],
   "source": [
    "y=np.array([[0],[1],[0],[1]])"
   ]
  },
  {
   "cell_type": "markdown",
   "metadata": {},
   "source": [
    "#### Activation (Sigmoid)"
   ]
  },
  {
   "cell_type": "code",
   "execution_count": 4,
   "metadata": {},
   "outputs": [],
   "source": [
    "#Sigmoid Function\n",
    "def sigmoid (x):\n",
    "    return 1/(1 + np.exp(-x))\n",
    "\n",
    "#Derivative of Sigmoid Function\n",
    "def derivatives_sigmoid(x):\n",
    "    return x * (1 - x)"
   ]
  },
  {
   "cell_type": "markdown",
   "metadata": {},
   "source": [
    "#### Architecture"
   ]
  },
  {
   "cell_type": "code",
   "execution_count": 5,
   "metadata": {},
   "outputs": [],
   "source": [
    "#Variable initialization\n",
    "epoch=5000 #Setting training iterations\n",
    "inputlayer_neurons = X.shape[1] ## Dimension of the Input\n",
    "hiddenlayer_neurons = 4 ## number of hidden layers neurons\n",
    "output_neurons = 1 ## number of neurons at output layer"
   ]
  },
  {
   "cell_type": "markdown",
   "metadata": {},
   "source": [
    "#### Training"
   ]
  },
  {
   "cell_type": "code",
   "execution_count": 11,
   "metadata": {},
   "outputs": [],
   "source": [
    "def train(epoch, step, lr=0.1):\n",
    "    \n",
    "    ## Weights of the hidden layer\n",
    "    wh=np.random.uniform(size=(inputlayer_neurons,hiddenlayer_neurons))\n",
    "    ## print(\"wh shape\", wh.shape)\n",
    "    ## print(\"initial hidden layer weights\", wh)\n",
    "\n",
    "    ## Weights of the output layer\n",
    "    wout=np.random.uniform(size=(hiddenlayer_neurons,output_neurons))\n",
    "    ## print(\"wout shape\", wout.shape)\n",
    "    ## print(\"initial output layer weights\", wout)\n",
    "    \n",
    "    for i in range(epoch):\n",
    "\n",
    "        ## Forward Pass\n",
    "        hidden_layer_input=np.dot(X,wh)\n",
    "        hiddenlayer_activations = sigmoid(hidden_layer_input)\n",
    "        \n",
    "        output_layer_input=np.dot(hiddenlayer_activations,wout)\n",
    "        output = sigmoid(output_layer_input)\n",
    "\n",
    "        ## Backpropagation\n",
    "        E = y-output\n",
    "        \n",
    "        #print(\"y\", y)\n",
    "        #print(\"output\", output)\n",
    "        #print(\"E\", E)\n",
    "        \n",
    "        slope_output_layer = derivatives_sigmoid(output)    \n",
    "        delta_out = E * slope_output_layer\n",
    "        wout += hiddenlayer_activations.T.dot(delta_out) *lr\n",
    "        \n",
    "        slope_hidden_layer = derivatives_sigmoid(hiddenlayer_activations)\n",
    "        Error_at_hidden_layer = delta_out.dot(wout.T)\n",
    "        delta_hiddenlayer = Error_at_hidden_layer * slope_hidden_layer\n",
    "        \n",
    "        wh += X.T.dot(delta_hiddenlayer) *lr\n",
    "        \n",
    "        if(i % step == 0 ):\n",
    "            print(\"Error:\", np.mean(np.abs(Error_at_hidden_layer)))\n",
    "\n",
    "    print(\"===============================================\")\n",
    "    print(\"Model:\")\n",
    "    print(\"===============================================\")\n",
    "    print(\"hidden layer weights\", wh)\n",
    "    print(\"output layer weights\", wout)\n",
    "    print(\"===============================================\")\n",
    "    \n",
    "    print(\"output\")\n",
    "    print(\"===============================================\")\n",
    "    print(output)\n",
    "    print(\"===============================================\")\n",
    "    ## Save the models\n",
    "    np.save(open(\"HiddenLayerWeights.npy\", \"wb\"), wh)\n",
    "    np.save(open(\"OutputLayerWeights.npy\", \"wb\"), wout)"
   ]
  },
  {
   "cell_type": "code",
   "execution_count": 12,
   "metadata": {},
   "outputs": [
    {
     "name": "stdout",
     "output_type": "stream",
     "text": [
      "(2, 3)\n",
      "(3, 2)\n"
     ]
    },
    {
     "data": {
      "text/plain": [
       "array([[ 3,  6],\n",
       "       [ 6, 11]])"
      ]
     },
     "execution_count": 12,
     "metadata": {},
     "output_type": "execute_result"
    }
   ],
   "source": [
    "a = np.array([[1,1,1], [2,3,1]])\n",
    "print(a.shape)\n",
    "b = np.array([[1,1], [1,2], [1,3]])\n",
    "print(b.shape)\n",
    "np.dot(a,b)"
   ]
  },
  {
   "cell_type": "code",
   "execution_count": 13,
   "metadata": {},
   "outputs": [
    {
     "name": "stdout",
     "output_type": "stream",
     "text": [
      "Error: 0.03387358020917815\n",
      "===============================================\n",
      "Model:\n",
      "===============================================\n",
      "hidden layer weights [[ 1.93698339 -0.44981753  0.37765154 -0.75526182]\n",
      " [ 1.83558848 -0.53715841  0.50201906 -0.72512734]\n",
      " [-4.63092804  2.46651515 -1.76917984  2.96655418]]\n",
      "output layer weights [[ 6.78661194]\n",
      " [-2.79117827]\n",
      " [ 2.06506143]\n",
      " [-3.65760879]]\n",
      "===============================================\n",
      "output\n",
      "===============================================\n",
      "[[0.00725579]\n",
      " [0.99272828]\n",
      " [0.00740039]\n",
      " [0.99261355]]\n",
      "===============================================\n"
     ]
    }
   ],
   "source": [
    "train(50000, 50000)"
   ]
  },
  {
   "cell_type": "markdown",
   "metadata": {},
   "source": [
    "#### Predict"
   ]
  },
  {
   "cell_type": "code",
   "execution_count": 9,
   "metadata": {},
   "outputs": [
    {
     "name": "stdout",
     "output_type": "stream",
     "text": [
      "[[-1.44338564  1.46861384  0.91939304 -0.19118869]\n",
      " [-1.32663223  1.36373852  0.97329631 -0.50852512]\n",
      " [ 3.71370757 -3.70695875 -2.65093602  2.22453266]]\n",
      "[[-4.56546558]\n",
      " [ 5.30870698]\n",
      " [ 3.44093213]\n",
      " [-2.12177877]]\n"
     ]
    }
   ],
   "source": [
    "wh = np.load((open(\"HiddenLayerWeights.npy\", \"rb\")))\n",
    "wout = np.load((open(\"OutputLayerWeights.npy\", \"rb\")))\n",
    "\n",
    "print(wh)\n",
    "print(wout)"
   ]
  },
  {
   "cell_type": "code",
   "execution_count": 10,
   "metadata": {},
   "outputs": [
    {
     "name": "stdout",
     "output_type": "stream",
     "text": [
      "[[0.00687502]\n",
      " [0.9931099 ]]\n"
     ]
    }
   ],
   "source": [
    "newX = [[0,1,1], [0,1,0]]\n",
    "\n",
    "hidden_layer_input=np.dot(newX,wh)\n",
    "hiddenlayer_activations = sigmoid(hidden_layer_input)\n",
    "output_layer_input=np.dot(hiddenlayer_activations,wout)\n",
    "output = sigmoid(output_layer_input)\n",
    "print(output)"
   ]
  },
  {
   "cell_type": "markdown",
   "metadata": {},
   "source": [
    "References: \n",
    "\n",
    "1. [Neural network](https://www.analyticsvidhya.com/blog/2017/05/neural-network-from-scratch-in-python-and-r/)\n",
    "2. [Build a neural netowrk in 4 minuts](https://www.youtube.com/watch?v=h3l4qz76JhQ)\n",
    "3. [Gradient Descent](https://www.analyticsvidhya.com/blog/2017/03/introduction-to-gradient-descent-algorithm-along-its-variants/)"
   ]
  }
 ],
 "metadata": {
  "kernelspec": {
   "display_name": "Python 3",
   "language": "python",
   "name": "python3"
  },
  "language_info": {
   "codemirror_mode": {
    "name": "ipython",
    "version": 3
   },
   "file_extension": ".py",
   "mimetype": "text/x-python",
   "name": "python",
   "nbconvert_exporter": "python",
   "pygments_lexer": "ipython3",
   "version": "3.6.4"
  }
 },
 "nbformat": 4,
 "nbformat_minor": 2
}
