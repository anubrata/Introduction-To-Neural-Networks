{
 "cells": [
  {
   "cell_type": "markdown",
   "metadata": {},
   "source": [
    "## History and Applications"
   ]
  },
  {
   "cell_type": "markdown",
   "metadata": {},
   "source": [
    "#### What are the popular applications of Deep Learning?\n",
    "1. Natural Language Processing \n",
    "2. Computer Vision\n",
    "3. Making Music\n",
    "4. Generating Texts\n",
    "6. Playing games \n",
    ".\n",
    ".\n",
    ".\n",
    "\n",
    "\n",
    "##### Neural Network - The basic bulding block for Deep Learning"
   ]
  },
  {
   "cell_type": "markdown",
   "metadata": {},
   "source": [
    "## Technology Stack"
   ]
  },
  {
   "cell_type": "markdown",
   "metadata": {},
   "source": [
    "**Compute:**  Azure [DSVM](https://docs.microsoft.com/en-us/azure/machine-learning/data-science-virtual-machine/overview)\n",
    "\n",
    "**Language:** [Python (Anaconda)](https://docs.anaconda.com/anaconda/)\n",
    "\n",
    "**Library:** [Keras](https://keras.io/) with [Tensorflow](https://www.tensorflow.org/get_started/eager) backend\n",
    "\n",
    "**Data Set:**  MNIST (Hand Written digit Recognition)\n",
    "              The original dataset was constructed by [Yann LeCun](http://yann.lecun.com/exdb/mnist/)\n",
    "              The Dataset used in this demo is from Kaggle [Digit Recognizer](https://www.kaggle.com/c/digit-recognizer/data)"
   ]
  },
  {
   "cell_type": "markdown",
   "metadata": {},
   "source": [
    "## MNIST Classifer using Keras"
   ]
  },
  {
   "cell_type": "code",
   "execution_count": 2,
   "metadata": {
    "_cell_guid": "c8baf9b2-0365-0e09-8e38-002cd5b0bbfa"
   },
   "outputs": [],
   "source": [
    "# import libraries\n",
    "import numpy as np # \n",
    "import pandas as pd # \n",
    "%matplotlib inline"
   ]
  },
  {
   "cell_type": "markdown",
   "metadata": {},
   "source": [
    "### How does the data look like"
   ]
  },
  {
   "cell_type": "code",
   "execution_count": 3,
   "metadata": {
    "_cell_guid": "b17dec30-15ad-f53a-1099-589dd4723233"
   },
   "outputs": [
    {
     "data": {
      "text/html": [
       "<div>\n",
       "<style scoped>\n",
       "    .dataframe tbody tr th:only-of-type {\n",
       "        vertical-align: middle;\n",
       "    }\n",
       "\n",
       "    .dataframe tbody tr th {\n",
       "        vertical-align: top;\n",
       "    }\n",
       "\n",
       "    .dataframe thead th {\n",
       "        text-align: right;\n",
       "    }\n",
       "</style>\n",
       "<table border=\"1\" class=\"dataframe\">\n",
       "  <thead>\n",
       "    <tr style=\"text-align: right;\">\n",
       "      <th></th>\n",
       "      <th>label</th>\n",
       "      <th>pixel0</th>\n",
       "      <th>pixel1</th>\n",
       "      <th>pixel2</th>\n",
       "      <th>pixel3</th>\n",
       "      <th>pixel4</th>\n",
       "      <th>pixel5</th>\n",
       "      <th>pixel6</th>\n",
       "      <th>pixel7</th>\n",
       "      <th>pixel8</th>\n",
       "      <th>...</th>\n",
       "      <th>pixel774</th>\n",
       "      <th>pixel775</th>\n",
       "      <th>pixel776</th>\n",
       "      <th>pixel777</th>\n",
       "      <th>pixel778</th>\n",
       "      <th>pixel779</th>\n",
       "      <th>pixel780</th>\n",
       "      <th>pixel781</th>\n",
       "      <th>pixel782</th>\n",
       "      <th>pixel783</th>\n",
       "    </tr>\n",
       "  </thead>\n",
       "  <tbody>\n",
       "    <tr>\n",
       "      <th>0</th>\n",
       "      <td>1</td>\n",
       "      <td>0</td>\n",
       "      <td>0</td>\n",
       "      <td>0</td>\n",
       "      <td>0</td>\n",
       "      <td>0</td>\n",
       "      <td>0</td>\n",
       "      <td>0</td>\n",
       "      <td>0</td>\n",
       "      <td>0</td>\n",
       "      <td>...</td>\n",
       "      <td>0</td>\n",
       "      <td>0</td>\n",
       "      <td>0</td>\n",
       "      <td>0</td>\n",
       "      <td>0</td>\n",
       "      <td>0</td>\n",
       "      <td>0</td>\n",
       "      <td>0</td>\n",
       "      <td>0</td>\n",
       "      <td>0</td>\n",
       "    </tr>\n",
       "    <tr>\n",
       "      <th>1</th>\n",
       "      <td>0</td>\n",
       "      <td>0</td>\n",
       "      <td>0</td>\n",
       "      <td>0</td>\n",
       "      <td>0</td>\n",
       "      <td>0</td>\n",
       "      <td>0</td>\n",
       "      <td>0</td>\n",
       "      <td>0</td>\n",
       "      <td>0</td>\n",
       "      <td>...</td>\n",
       "      <td>0</td>\n",
       "      <td>0</td>\n",
       "      <td>0</td>\n",
       "      <td>0</td>\n",
       "      <td>0</td>\n",
       "      <td>0</td>\n",
       "      <td>0</td>\n",
       "      <td>0</td>\n",
       "      <td>0</td>\n",
       "      <td>0</td>\n",
       "    </tr>\n",
       "    <tr>\n",
       "      <th>2</th>\n",
       "      <td>1</td>\n",
       "      <td>0</td>\n",
       "      <td>0</td>\n",
       "      <td>0</td>\n",
       "      <td>0</td>\n",
       "      <td>0</td>\n",
       "      <td>0</td>\n",
       "      <td>0</td>\n",
       "      <td>0</td>\n",
       "      <td>0</td>\n",
       "      <td>...</td>\n",
       "      <td>0</td>\n",
       "      <td>0</td>\n",
       "      <td>0</td>\n",
       "      <td>0</td>\n",
       "      <td>0</td>\n",
       "      <td>0</td>\n",
       "      <td>0</td>\n",
       "      <td>0</td>\n",
       "      <td>0</td>\n",
       "      <td>0</td>\n",
       "    </tr>\n",
       "    <tr>\n",
       "      <th>3</th>\n",
       "      <td>4</td>\n",
       "      <td>0</td>\n",
       "      <td>0</td>\n",
       "      <td>0</td>\n",
       "      <td>0</td>\n",
       "      <td>0</td>\n",
       "      <td>0</td>\n",
       "      <td>0</td>\n",
       "      <td>0</td>\n",
       "      <td>0</td>\n",
       "      <td>...</td>\n",
       "      <td>0</td>\n",
       "      <td>0</td>\n",
       "      <td>0</td>\n",
       "      <td>0</td>\n",
       "      <td>0</td>\n",
       "      <td>0</td>\n",
       "      <td>0</td>\n",
       "      <td>0</td>\n",
       "      <td>0</td>\n",
       "      <td>0</td>\n",
       "    </tr>\n",
       "    <tr>\n",
       "      <th>4</th>\n",
       "      <td>0</td>\n",
       "      <td>0</td>\n",
       "      <td>0</td>\n",
       "      <td>0</td>\n",
       "      <td>0</td>\n",
       "      <td>0</td>\n",
       "      <td>0</td>\n",
       "      <td>0</td>\n",
       "      <td>0</td>\n",
       "      <td>0</td>\n",
       "      <td>...</td>\n",
       "      <td>0</td>\n",
       "      <td>0</td>\n",
       "      <td>0</td>\n",
       "      <td>0</td>\n",
       "      <td>0</td>\n",
       "      <td>0</td>\n",
       "      <td>0</td>\n",
       "      <td>0</td>\n",
       "      <td>0</td>\n",
       "      <td>0</td>\n",
       "    </tr>\n",
       "  </tbody>\n",
       "</table>\n",
       "<p>5 rows × 785 columns</p>\n",
       "</div>"
      ],
      "text/plain": [
       "   label  pixel0  pixel1  pixel2  pixel3  pixel4  pixel5  pixel6  pixel7  \\\n",
       "0      1       0       0       0       0       0       0       0       0   \n",
       "1      0       0       0       0       0       0       0       0       0   \n",
       "2      1       0       0       0       0       0       0       0       0   \n",
       "3      4       0       0       0       0       0       0       0       0   \n",
       "4      0       0       0       0       0       0       0       0       0   \n",
       "\n",
       "   pixel8    ...     pixel774  pixel775  pixel776  pixel777  pixel778  \\\n",
       "0       0    ...            0         0         0         0         0   \n",
       "1       0    ...            0         0         0         0         0   \n",
       "2       0    ...            0         0         0         0         0   \n",
       "3       0    ...            0         0         0         0         0   \n",
       "4       0    ...            0         0         0         0         0   \n",
       "\n",
       "   pixel779  pixel780  pixel781  pixel782  pixel783  \n",
       "0         0         0         0         0         0  \n",
       "1         0         0         0         0         0  \n",
       "2         0         0         0         0         0  \n",
       "3         0         0         0         0         0  \n",
       "4         0         0         0         0         0  \n",
       "\n",
       "[5 rows x 785 columns]"
      ]
     },
     "execution_count": 3,
     "metadata": {},
     "output_type": "execute_result"
    }
   ],
   "source": [
    "# load the training data and inspect\n",
    "digits = pd.read_csv('C:/Users/anubrata/Pictures/MNIST/train.csv')\n",
    "digits.head()"
   ]
  },
  {
   "cell_type": "code",
   "execution_count": 4,
   "metadata": {
    "_cell_guid": "cc371177-8cf9-0c92-fe06-32067c1181eb"
   },
   "outputs": [
    {
     "name": "stdout",
     "output_type": "stream",
     "text": [
      "shape of a (784,)\n",
      "shape of b (28, 28)\n",
      "[[  0   0   0   0   0   0   0   0   0   0   0   0   0   0   0   0   0   0\n",
      "    0   0   0   0   0   0   0   0   0   0]\n",
      " [  0   0   0   0   0   0   0   0   0   0   0   0   0   0   0   0   0   0\n",
      "    0   0   0   0   0   0   0   0   0   0]\n",
      " [  0   0   0   0   0   0   0   0   0   0   0   0   0   0   0   0   0   0\n",
      "    0   0   0   0   0   0   0   0   0   0]\n",
      " [  0   0   0   0   0   0   0   0   0   0   0   0   0   0   0   0   0   0\n",
      "    0   0   0   0   0   0   0   0   0   0]\n",
      " [  0   0   0   0   0   0   0   0   0   0   0   0   0   0   0   0   0   0\n",
      "    0   0   0   0   0   0   0   0   0   0]\n",
      " [  0   0   0   0   0   0 220 179   6   0   0   0   0   0   0   0   0   9\n",
      "   77   0   0   0   0   0   0   0   0   0]\n",
      " [  0   0   0   0   0   0  28 247  17   0   0   0   0   0   0   0   0  27\n",
      "  202   0   0   0   0   0   0   0   0   0]\n",
      " [  0   0   0   0   0   0   0 242 155   0   0   0   0   0   0   0   0  27\n",
      "  254  63   0   0   0   0   0   0   0   0]\n",
      " [  0   0   0   0   0   0   0 160 207   6   0   0   0   0   0   0   0  27\n",
      "  254  65   0   0   0   0   0   0   0   0]\n",
      " [  0   0   0   0   0   0   0 127 254  21   0   0   0   0   0   0   0  20\n",
      "  239  65   0   0   0   0   0   0   0   0]\n",
      " [  0   0   0   0   0   0   0  77 254  21   0   0   0   0   0   0   0   0\n",
      "  195  65   0   0   0   0   0   0   0   0]\n",
      " [  0   0   0   0   0   0   0  70 254  21   0   0   0   0   0   0   0   0\n",
      "  195 142   0   0   0   0   0   0   0   0]\n",
      " [  0   0   0   0   0   0   0  56 251  21   0   0   0   0   0   0   0   0\n",
      "  195 227   0   0   0   0   0   0   0   0]\n",
      " [  0   0   0   0   0   0   0   0 222 153   5   0   0   0   0   0   0   0\n",
      "  120 240  13   0   0   0   0   0   0   0]\n",
      " [  0   0   0   0   0   0   0   0  67 251  40   0   0   0   0   0   0   0\n",
      "   94 255  69   0   0   0   0   0   0   0]\n",
      " [  0   0   0   0   0   0   0   0   0 234 184   0   0   0   0   0   0   0\n",
      "   19 245  69   0   0   0   0   0   0   0]\n",
      " [  0   0   0   0   0   0   0   0   0 234 169   0   0   0   0   0   0   0\n",
      "    3 199 182  10   0   0   0   0   0   0]\n",
      " [  0   0   0   0   0   0   0   0   0 154 205   4   0   0  26  72 128 203\n",
      "  208 254 254 131   0   0   0   0   0   0]\n",
      " [  0   0   0   0   0   0   0   0   0  61 254 129 113 186 245 251 189  75\n",
      "   56 136 254  73   0   0   0   0   0   0]\n",
      " [  0   0   0   0   0   0   0   0   0  15 216 233 233 159 104  52   0   0\n",
      "    0  38 254  73   0   0   0   0   0   0]\n",
      " [  0   0   0   0   0   0   0   0   0   0   0   0   0   0   0   0   0   0\n",
      "    0  18 254  73   0   0   0   0   0   0]\n",
      " [  0   0   0   0   0   0   0   0   0   0   0   0   0   0   0   0   0   0\n",
      "    0  18 254  73   0   0   0   0   0   0]\n",
      " [  0   0   0   0   0   0   0   0   0   0   0   0   0   0   0   0   0   0\n",
      "    0   5 206 106   0   0   0   0   0   0]\n",
      " [  0   0   0   0   0   0   0   0   0   0   0   0   0   0   0   0   0   0\n",
      "    0   0 186 159   0   0   0   0   0   0]\n",
      " [  0   0   0   0   0   0   0   0   0   0   0   0   0   0   0   0   0   0\n",
      "    0   6 209 101   0   0   0   0   0   0]\n",
      " [  0   0   0   0   0   0   0   0   0   0   0   0   0   0   0   0   0   0\n",
      "    0   0   0   0   0   0   0   0   0   0]\n",
      " [  0   0   0   0   0   0   0   0   0   0   0   0   0   0   0   0   0   0\n",
      "    0   0   0   0   0   0   0   0   0   0]\n",
      " [  0   0   0   0   0   0   0   0   0   0   0   0   0   0   0   0   0   0\n",
      "    0   0   0   0   0   0   0   0   0   0]]\n"
     ]
    }
   ],
   "source": [
    "# let's look at the structure of one row (image)\n",
    "a = digits.iloc[3,1:].values ## integer-location based indexing for selection by position\n",
    "print(\"shape of a\", a.shape)\n",
    "b = a.reshape((28,28))\n",
    "print(\"shape of b\", b.shape)\n",
    "print(b)"
   ]
  },
  {
   "cell_type": "code",
   "execution_count": 5,
   "metadata": {
    "_cell_guid": "ecc80d9a-2044-cf08-58a8-547fa97088bc"
   },
   "outputs": [
    {
     "data": {
      "text/plain": [
       "<matplotlib.image.AxesImage at 0x1c7f05f66a0>"
      ]
     },
     "execution_count": 5,
     "metadata": {},
     "output_type": "execute_result"
    },
    {
     "data": {
      "image/png": "[encoded data removed]",
      "text/plain": [
       "<matplotlib.figure.Figure at 0x1c7e4b3cac8>"
      ]
     },
     "metadata": {},
     "output_type": "display_data"
    }
   ],
   "source": [
    "# plot one of the images\n",
    "import matplotlib.pyplot as plt\n",
    "plt.imshow(b)"
   ]
  },
  {
   "cell_type": "code",
   "execution_count": 6,
   "metadata": {
    "_cell_guid": "8aac8289-9884-a064-6f10-f36014fdeabf"
   },
   "outputs": [
    {
     "name": "stdout",
     "output_type": "stream",
     "text": [
      "labels [1 0 1 ... 7 6 9]\n",
      "[  0   0   0   0   0   0   0   0   0   0   0   0   0   0   0   0   0   0\n",
      "   0   0   0   0   0   0   0   0   0   0   0   0   0   0   0   0   0   0\n",
      "   0   0   0   0   0   0   0   0   0   0   0   0   0   0   0   0   0   0\n",
      "   0   0   0   0   0   0   0   0   0   0   0   0   0   0   0   0   0   0\n",
      "   0   0   0   0   0   0   0   0   0   0   0   0   0   0   0   0   0   0\n",
      "   0   0   0   0   0   0   0   0   0   0   0   0   0   0   0   0   0   0\n",
      "   0   0   0   0   0   0   0   0   0   0   0   0   0   0  18  30 137 137\n",
      " 192  86  72   1   0   0   0   0   0   0   0   0   0   0   0   0   0   0\n",
      "   0   0   0   0  13  86 250 254 254 254 254 217 246 151  32   0   0   0\n",
      "   0   0   0   0   0   0   0   0   0   0   0   0   0  16 179 254 254 254\n",
      " 254 254 254 254 254 254 231  54  15   0   0   0   0   0   0   0   0   0\n",
      "   0   0   0   0   0  72 254 254 254 254 254 254 254 254 254 254 254 254\n",
      " 104   0   0   0   0   0   0   0   0   0   0   0   0   0  61 191 254 254\n",
      " 254 254 254 109  83 199 254 254 254 254 243  85   0   0   0   0   0   0\n",
      "   0   0   0   0   0   0 172 254 254 254 202 147 147  45   0  11  29 200\n",
      " 254 254 254 171   0   0   0   0   0   0   0   0   0   0   0   1 174 254\n",
      " 254  89  67   0   0   0   0   0   0 128 252 254 254 212  76   0   0   0\n",
      "   0   0   0   0   0   0   0  47 254 254 254  29   0   0   0   0   0   0\n",
      "   0   0  83 254 254 254 153   0   0   0   0   0   0   0   0   0   0  80\n",
      " 254 254 240  24   0   0   0   0   0   0   0   0  25 240 254 254 153   0\n",
      "   0   0   0   0   0   0   0   0   0  64 254 254 186   7   0   0   0   0\n",
      "   0   0   0   0   0 166 254 254 224  12   0   0   0   0   0   0   0   0\n",
      "  14 232 254 254 254  29   0   0   0   0   0   0   0   0   0  75 254 254\n",
      " 254  17   0   0   0   0   0   0   0   0  18 254 254 254 254  29   0   0\n",
      "   0   0   0   0   0   0   0  48 254 254 254  17   0   0   0   0   0   0\n",
      "   0   0   2 163 254 254 254  29   0   0   0   0   0   0   0   0   0  48\n",
      " 254 254 254  17   0   0   0   0   0   0   0   0   0  94 254 254 254 200\n",
      "  12   0   0   0   0   0   0   0  16 209 254 254 150   1   0   0   0   0\n",
      "   0   0   0   0   0  15 206 254 254 254 202  66   0   0   0   0   0  21\n",
      " 161 254 254 245  31   0   0   0   0   0   0   0   0   0   0   0  60 212\n",
      " 254 254 254 194  48  48  34  41  48 209 254 254 254 171   0   0   0   0\n",
      "   0   0   0   0   0   0   0   0   0  86 243 254 254 254 254 254 233 243\n",
      " 254 254 254 254 254  86   0   0   0   0   0   0   0   0   0   0   0   0\n",
      "   0   0 114 254 254 254 254 254 254 254 254 254 254 239  86  11   0   0\n",
      "   0   0   0   0   0   0   0   0   0   0   0   0  13 182 254 254 254 254\n",
      " 254 254 254 254 243  70   0   0   0   0   0   0   0   0   0   0   0   0\n",
      "   0   0   0   0   0   8  76 146 254 255 254 255 146  19  15   0   0   0\n",
      "   0   0   0   0   0   0   0   0   0   0   0   0   0   0   0   0   0   0\n",
      "   0   0   0   0   0   0   0   0   0   0   0   0   0   0   0   0   0   0\n",
      "   0   0   0   0   0   0   0   0   0   0   0   0   0   0   0   0   0   0\n",
      "   0   0   0   0   0   0   0   0   0   0   0   0   0   0   0   0   0   0\n",
      "   0   0   0   0   0   0   0   0   0   0   0   0   0   0   0   0   0   0\n",
      "   0   0   0   0   0   0   0   0   0   0   0   0   0   0   0   0   0   0\n",
      "   0   0   0   0   0   0   0   0   0   0]\n",
      "[0.         0.         0.         0.         0.         0.\n",
      " 0.         0.         0.         0.         0.         0.\n",
      " 0.         0.         0.         0.         0.         0.\n",
      " 0.         0.         0.         0.         0.         0.\n",
      " 0.         0.         0.         0.         0.         0.\n",
      " 0.         0.         0.         0.         0.         0.\n",
      " 0.         0.         0.         0.         0.         0.\n",
      " 0.         0.         0.         0.         0.         0.\n",
      " 0.         0.         0.         0.         0.         0.\n",
      " 0.         0.         0.         0.         0.         0.\n",
      " 0.         0.         0.         0.         0.         0.\n",
      " 0.         0.         0.         0.         0.         0.\n",
      " 0.         0.         0.         0.         0.         0.\n",
      " 0.         0.         0.         0.         0.         0.\n",
      " 0.         0.         0.         0.         0.         0.\n",
      " 0.         0.         0.         0.         0.         0.\n",
      " 0.         0.         0.         0.         0.         0.\n",
      " 0.         0.         0.         0.         0.         0.\n",
      " 0.         0.         0.         0.         0.         0.\n",
      " 0.         0.         0.         0.         0.         0.\n",
      " 0.         0.         0.07058824 0.11764706 0.5372549  0.5372549\n",
      " 0.75294118 0.3372549  0.28235294 0.00392157 0.         0.\n",
      " 0.         0.         0.         0.         0.         0.\n",
      " 0.         0.         0.         0.         0.         0.\n",
      " 0.         0.         0.         0.         0.05098039 0.3372549\n",
      " 0.98039216 0.99607843 0.99607843 0.99607843 0.99607843 0.85098039\n",
      " 0.96470588 0.59215686 0.1254902  0.         0.         0.\n",
      " 0.         0.         0.         0.         0.         0.\n",
      " 0.         0.         0.         0.         0.         0.\n",
      " 0.         0.0627451  0.70196078 0.99607843 0.99607843 0.99607843\n",
      " 0.99607843 0.99607843 0.99607843 0.99607843 0.99607843 0.99607843\n",
      " 0.90588235 0.21176471 0.05882353 0.         0.         0.\n",
      " 0.         0.         0.         0.         0.         0.\n",
      " 0.         0.         0.         0.         0.         0.28235294\n",
      " 0.99607843 0.99607843 0.99607843 0.99607843 0.99607843 0.99607843\n",
      " 0.99607843 0.99607843 0.99607843 0.99607843 0.99607843 0.99607843\n",
      " 0.40784314 0.         0.         0.         0.         0.\n",
      " 0.         0.         0.         0.         0.         0.\n",
      " 0.         0.         0.23921569 0.74901961 0.99607843 0.99607843\n",
      " 0.99607843 0.99607843 0.99607843 0.42745098 0.3254902  0.78039216\n",
      " 0.99607843 0.99607843 0.99607843 0.99607843 0.95294118 0.33333333\n",
      " 0.         0.         0.         0.         0.         0.\n",
      " 0.         0.         0.         0.         0.         0.\n",
      " 0.6745098  0.99607843 0.99607843 0.99607843 0.79215686 0.57647059\n",
      " 0.57647059 0.17647059 0.         0.04313725 0.11372549 0.78431373\n",
      " 0.99607843 0.99607843 0.99607843 0.67058824 0.         0.\n",
      " 0.         0.         0.         0.         0.         0.\n",
      " 0.         0.         0.         0.00392157 0.68235294 0.99607843\n",
      " 0.99607843 0.34901961 0.2627451  0.         0.         0.\n",
      " 0.         0.         0.         0.50196078 0.98823529 0.99607843\n",
      " 0.99607843 0.83137255 0.29803922 0.         0.         0.\n",
      " 0.         0.         0.         0.         0.         0.\n",
      " 0.         0.18431373 0.99607843 0.99607843 0.99607843 0.11372549\n",
      " 0.         0.         0.         0.         0.         0.\n",
      " 0.         0.         0.3254902  0.99607843 0.99607843 0.99607843\n",
      " 0.6        0.         0.         0.         0.         0.\n",
      " 0.         0.         0.         0.         0.         0.31372549\n",
      " 0.99607843 0.99607843 0.94117647 0.09411765 0.         0.\n",
      " 0.         0.         0.         0.         0.         0.\n",
      " 0.09803922 0.94117647 0.99607843 0.99607843 0.6        0.\n",
      " 0.         0.         0.         0.         0.         0.\n",
      " 0.         0.         0.         0.25098039 0.99607843 0.99607843\n",
      " 0.72941176 0.02745098 0.         0.         0.         0.\n",
      " 0.         0.         0.         0.         0.         0.65098039\n",
      " 0.99607843 0.99607843 0.87843137 0.04705882 0.         0.\n",
      " 0.         0.         0.         0.         0.         0.\n",
      " 0.05490196 0.90980392 0.99607843 0.99607843 0.99607843 0.11372549\n",
      " 0.         0.         0.         0.         0.         0.\n",
      " 0.         0.         0.         0.29411765 0.99607843 0.99607843\n",
      " 0.99607843 0.06666667 0.         0.         0.         0.\n",
      " 0.         0.         0.         0.         0.07058824 0.99607843\n",
      " 0.99607843 0.99607843 0.99607843 0.11372549 0.         0.\n",
      " 0.         0.         0.         0.         0.         0.\n",
      " 0.         0.18823529 0.99607843 0.99607843 0.99607843 0.06666667\n",
      " 0.         0.         0.         0.         0.         0.\n",
      " 0.         0.         0.00784314 0.63921569 0.99607843 0.99607843\n",
      " 0.99607843 0.11372549 0.         0.         0.         0.\n",
      " 0.         0.         0.         0.         0.         0.18823529\n",
      " 0.99607843 0.99607843 0.99607843 0.06666667 0.         0.\n",
      " 0.         0.         0.         0.         0.         0.\n",
      " 0.         0.36862745 0.99607843 0.99607843 0.99607843 0.78431373\n",
      " 0.04705882 0.         0.         0.         0.         0.\n",
      " 0.         0.         0.0627451  0.81960784 0.99607843 0.99607843\n",
      " 0.58823529 0.00392157 0.         0.         0.         0.\n",
      " 0.         0.         0.         0.         0.         0.05882353\n",
      " 0.80784314 0.99607843 0.99607843 0.99607843 0.79215686 0.25882353\n",
      " 0.         0.         0.         0.         0.         0.08235294\n",
      " 0.63137255 0.99607843 0.99607843 0.96078431 0.12156863 0.\n",
      " 0.         0.         0.         0.         0.         0.\n",
      " 0.         0.         0.         0.         0.23529412 0.83137255\n",
      " 0.99607843 0.99607843 0.99607843 0.76078431 0.18823529 0.18823529\n",
      " 0.13333333 0.16078431 0.18823529 0.81960784 0.99607843 0.99607843\n",
      " 0.99607843 0.67058824 0.         0.         0.         0.\n",
      " 0.         0.         0.         0.         0.         0.\n",
      " 0.         0.         0.         0.3372549  0.95294118 0.99607843\n",
      " 0.99607843 0.99607843 0.99607843 0.99607843 0.91372549 0.95294118\n",
      " 0.99607843 0.99607843 0.99607843 0.99607843 0.99607843 0.3372549\n",
      " 0.         0.         0.         0.         0.         0.\n",
      " 0.         0.         0.         0.         0.         0.\n",
      " 0.         0.         0.44705882 0.99607843 0.99607843 0.99607843\n",
      " 0.99607843 0.99607843 0.99607843 0.99607843 0.99607843 0.99607843\n",
      " 0.99607843 0.9372549  0.3372549  0.04313725 0.         0.\n",
      " 0.         0.         0.         0.         0.         0.\n",
      " 0.         0.         0.         0.         0.         0.\n",
      " 0.05098039 0.71372549 0.99607843 0.99607843 0.99607843 0.99607843\n",
      " 0.99607843 0.99607843 0.99607843 0.99607843 0.95294118 0.2745098\n",
      " 0.         0.         0.         0.         0.         0.\n",
      " 0.         0.         0.         0.         0.         0.\n",
      " 0.         0.         0.         0.         0.         0.03137255\n",
      " 0.29803922 0.57254902 0.99607843 1.         0.99607843 1.\n",
      " 0.57254902 0.0745098  0.05882353 0.         0.         0.\n",
      " 0.         0.         0.         0.         0.         0.\n",
      " 0.         0.         0.         0.         0.         0.\n",
      " 0.         0.         0.         0.         0.         0.\n",
      " 0.         0.         0.         0.         0.         0.\n",
      " 0.         0.         0.         0.         0.         0.\n",
      " 0.         0.         0.         0.         0.         0.\n",
      " 0.         0.         0.         0.         0.         0.\n",
      " 0.         0.         0.         0.         0.         0.\n",
      " 0.         0.         0.         0.         0.         0.\n",
      " 0.         0.         0.         0.         0.         0.\n",
      " 0.         0.         0.         0.         0.         0.\n",
      " 0.         0.         0.         0.         0.         0.\n",
      " 0.         0.         0.         0.         0.         0.\n",
      " 0.         0.         0.         0.         0.         0.\n",
      " 0.         0.         0.         0.         0.         0.\n",
      " 0.         0.         0.         0.         0.         0.\n",
      " 0.         0.         0.         0.         0.         0.\n",
      " 0.         0.         0.         0.         0.         0.\n",
      " 0.         0.         0.         0.         0.         0.\n",
      " 0.         0.         0.         0.        ]\n"
     ]
    }
   ],
   "source": [
    "# split the training data into predictors (X) and targets (y)\n",
    "X=digits.iloc[:,1:].values\n",
    "y=digits.iloc[:,0].values\n",
    "print(\"labels\", y)\n",
    "print(X[1])\n",
    "X=np.divide(X,255.)\n",
    "print(X[1])"
   ]
  },
  {
   "cell_type": "code",
   "execution_count": 7,
   "metadata": {},
   "outputs": [
    {
     "data": {
      "text/plain": [
       "(42000,)"
      ]
     },
     "execution_count": 7,
     "metadata": {},
     "output_type": "execute_result"
    }
   ],
   "source": [
    "y.shape"
   ]
  },
  {
   "cell_type": "code",
   "execution_count": 8,
   "metadata": {},
   "outputs": [
    {
     "name": "stderr",
     "output_type": "stream",
     "text": [
      "C:\\Anaconda\\lib\\site-packages\\h5py\\__init__.py:36: FutureWarning: Conversion of the second argument of issubdtype from `float` to `np.floating` is deprecated. In future, it will be treated as `np.float64 == np.dtype(float).type`.\n",
      "  from ._conv import register_converters as _register_converters\n",
      "Using TensorFlow backend.\n"
     ]
    }
   ],
   "source": [
    "from keras.utils.np_utils import to_categorical\n",
    "y = to_categorical(y)"
   ]
  },
  {
   "cell_type": "code",
   "execution_count": 12,
   "metadata": {},
   "outputs": [
    {
     "name": "stdout",
     "output_type": "stream",
     "text": [
      "shapre (42000, 10)\n",
      "[[0. 1. 0. 0. 0. 0. 0. 0. 0. 0.]\n",
      " [1. 0. 0. 0. 0. 0. 0. 0. 0. 0.]\n",
      " [0. 1. 0. 0. 0. 0. 0. 0. 0. 0.]\n",
      " [0. 0. 0. 0. 1. 0. 0. 0. 0. 0.]\n",
      " [1. 0. 0. 0. 0. 0. 0. 0. 0. 0.]\n",
      " [1. 0. 0. 0. 0. 0. 0. 0. 0. 0.]\n",
      " [0. 0. 0. 0. 0. 0. 0. 1. 0. 0.]\n",
      " [0. 0. 0. 1. 0. 0. 0. 0. 0. 0.]\n",
      " [0. 0. 0. 0. 0. 1. 0. 0. 0. 0.]]\n"
     ]
    }
   ],
   "source": [
    "print(\"shapre\", y.shape)\n",
    "print(y[:9])"
   ]
  },
  {
   "cell_type": "code",
   "execution_count": 13,
   "metadata": {
    "_cell_guid": "b2cddfe1-d323-68a2-1ca8-640093b1ea60"
   },
   "outputs": [],
   "source": [
    "import keras\n",
    "from keras.models import Sequential\n",
    "from keras.layers import Dense\n",
    "from keras.callbacks import EarlyStopping\n",
    "from keras import optimizers"
   ]
  },
  {
   "cell_type": "markdown",
   "metadata": {},
   "source": [
    "### The Model"
   ]
  },
  {
   "cell_type": "code",
   "execution_count": 14,
   "metadata": {
    "_cell_guid": "28b4f1bd-403c-ace4-7855-c102384b5c7a"
   },
   "outputs": [
    {
     "name": "stdout",
     "output_type": "stream",
     "text": [
      "Train on 29399 samples, validate on 12601 samples\n",
      "Epoch 1/50\n",
      "29399/29399 [==============================] - 23s 766us/step - loss: 1.7008 - acc: 0.4528 - val_loss: 0.7026 - val_acc: 0.8264\n",
      "Epoch 2/50\n",
      "29399/29399 [==============================] - 3s 107us/step - loss: 0.4894 - acc: 0.8659 - val_loss: 0.3950 - val_acc: 0.8853\n",
      "Epoch 3/50\n",
      "29399/29399 [==============================] - 3s 109us/step - loss: 0.3562 - acc: 0.8982 - val_loss: 0.3321 - val_acc: 0.9034\n",
      "Epoch 4/50\n",
      "29399/29399 [==============================] - 3s 108us/step - loss: 0.3074 - acc: 0.9113 - val_loss: 0.2962 - val_acc: 0.9105\n",
      "Epoch 5/50\n",
      "29399/29399 [==============================] - 3s 108us/step - loss: 0.2765 - acc: 0.9199 - val_loss: 0.2633 - val_acc: 0.9223\n",
      "Epoch 6/50\n",
      "29399/29399 [==============================] - 3s 108us/step - loss: 0.2520 - acc: 0.9274 - val_loss: 0.2490 - val_acc: 0.9255\n",
      "Epoch 7/50\n",
      "29399/29399 [==============================] - 3s 110us/step - loss: 0.2317 - acc: 0.9330 - val_loss: 0.2330 - val_acc: 0.9295\n",
      "Epoch 8/50\n",
      "29399/29399 [==============================] - 3s 108us/step - loss: 0.2148 - acc: 0.9378 - val_loss: 0.2300 - val_acc: 0.9316\n",
      "Epoch 9/50\n",
      "29399/29399 [==============================] - 3s 108us/step - loss: 0.2007 - acc: 0.9423 - val_loss: 0.2074 - val_acc: 0.9377\n",
      "Epoch 10/50\n",
      "29399/29399 [==============================] - 3s 111us/step - loss: 0.1877 - acc: 0.9464 - val_loss: 0.2004 - val_acc: 0.9397\n",
      "Epoch 11/50\n",
      "29399/29399 [==============================] - 3s 110us/step - loss: 0.1762 - acc: 0.9496 - val_loss: 0.1920 - val_acc: 0.9417\n",
      "Epoch 12/50\n",
      "29399/29399 [==============================] - 3s 109us/step - loss: 0.1659 - acc: 0.9523 - val_loss: 0.1832 - val_acc: 0.9452\n",
      "Epoch 13/50\n",
      "29399/29399 [==============================] - 3s 110us/step - loss: 0.1574 - acc: 0.9553 - val_loss: 0.1814 - val_acc: 0.9459\n",
      "Epoch 14/50\n",
      "29399/29399 [==============================] - 3s 110us/step - loss: 0.1478 - acc: 0.9574 - val_loss: 0.1707 - val_acc: 0.9482\n",
      "Epoch 15/50\n",
      "29399/29399 [==============================] - 3s 110us/step - loss: 0.1408 - acc: 0.9603 - val_loss: 0.1653 - val_acc: 0.9510\n",
      "Epoch 16/50\n",
      "29399/29399 [==============================] - 3s 110us/step - loss: 0.1336 - acc: 0.9625 - val_loss: 0.1630 - val_acc: 0.9523\n",
      "Epoch 17/50\n",
      "29399/29399 [==============================] - 3s 107us/step - loss: 0.1269 - acc: 0.9641 - val_loss: 0.1535 - val_acc: 0.9547\n",
      "Epoch 18/50\n",
      "29399/29399 [==============================] - 3s 113us/step - loss: 0.1203 - acc: 0.9661 - val_loss: 0.1487 - val_acc: 0.9556\n",
      "Epoch 19/50\n",
      "29399/29399 [==============================] - 3s 110us/step - loss: 0.1152 - acc: 0.9673 - val_loss: 0.1491 - val_acc: 0.9561\n",
      "Epoch 20/50\n",
      "29399/29399 [==============================] - 3s 107us/step - loss: 0.1102 - acc: 0.9688 - val_loss: 0.1462 - val_acc: 0.9571\n",
      "Epoch 21/50\n",
      "29399/29399 [==============================] - 3s 106us/step - loss: 0.1046 - acc: 0.9710 - val_loss: 0.1464 - val_acc: 0.9564\n",
      "Epoch 22/50\n",
      "29399/29399 [==============================] - 3s 107us/step - loss: 0.1002 - acc: 0.9723 - val_loss: 0.1410 - val_acc: 0.9577\n",
      "Epoch 23/50\n",
      "29399/29399 [==============================] - 3s 109us/step - loss: 0.0955 - acc: 0.9737 - val_loss: 0.1350 - val_acc: 0.9587\n",
      "Epoch 24/50\n",
      "29399/29399 [==============================] - 3s 110us/step - loss: 0.0914 - acc: 0.9750 - val_loss: 0.1392 - val_acc: 0.9566\n",
      "Epoch 25/50\n",
      "29399/29399 [==============================] - 3s 107us/step - loss: 0.0878 - acc: 0.9753 - val_loss: 0.1310 - val_acc: 0.9602\n",
      "Epoch 26/50\n",
      "29399/29399 [==============================] - 3s 109us/step - loss: 0.0839 - acc: 0.9770 - val_loss: 0.1374 - val_acc: 0.9571\n",
      "Epoch 27/50\n",
      "29399/29399 [==============================] - 3s 106us/step - loss: 0.0801 - acc: 0.9774 - val_loss: 0.1314 - val_acc: 0.9605\n",
      "Epoch 28/50\n",
      "29399/29399 [==============================] - 3s 108us/step - loss: 0.0769 - acc: 0.9783 - val_loss: 0.1260 - val_acc: 0.9629\n",
      "Epoch 29/50\n",
      "29399/29399 [==============================] - 3s 110us/step - loss: 0.0743 - acc: 0.9795 - val_loss: 0.1265 - val_acc: 0.9622\n",
      "Epoch 30/50\n",
      "29399/29399 [==============================] - 3s 107us/step - loss: 0.0705 - acc: 0.9814 - val_loss: 0.1301 - val_acc: 0.9606\n",
      "Epoch 31/50\n",
      "29399/29399 [==============================] - 3s 112us/step - loss: 0.0675 - acc: 0.9822 - val_loss: 0.1291 - val_acc: 0.9616\n",
      "Epoch 32/50\n",
      "29399/29399 [==============================] - 3s 113us/step - loss: 0.0653 - acc: 0.9826 - val_loss: 0.1213 - val_acc: 0.9639\n",
      "Epoch 33/50\n",
      "29399/29399 [==============================] - 3s 113us/step - loss: 0.0620 - acc: 0.9838 - val_loss: 0.1218 - val_acc: 0.9643\n",
      "Epoch 34/50\n",
      "29399/29399 [==============================] - 3s 112us/step - loss: 0.0601 - acc: 0.9840 - val_loss: 0.1197 - val_acc: 0.9638\n",
      "Epoch 35/50\n",
      "29399/29399 [==============================] - 3s 115us/step - loss: 0.0577 - acc: 0.9847 - val_loss: 0.1210 - val_acc: 0.9633\n",
      "Epoch 36/50\n",
      "29399/29399 [==============================] - 3s 110us/step - loss: 0.0552 - acc: 0.9856 - val_loss: 0.1225 - val_acc: 0.9652\n",
      "Epoch 37/50\n",
      "29399/29399 [==============================] - 3s 110us/step - loss: 0.0524 - acc: 0.9865 - val_loss: 0.1221 - val_acc: 0.9630\n",
      "Epoch 38/50\n",
      "29399/29399 [==============================] - 3s 110us/step - loss: 0.0509 - acc: 0.9874 - val_loss: 0.1193 - val_acc: 0.9645\n",
      "Epoch 39/50\n",
      "29399/29399 [==============================] - 3s 115us/step - loss: 0.0487 - acc: 0.9884 - val_loss: 0.1180 - val_acc: 0.9650\n",
      "Epoch 40/50\n",
      "29399/29399 [==============================] - 3s 114us/step - loss: 0.0471 - acc: 0.9882 - val_loss: 0.1157 - val_acc: 0.9652\n",
      "Epoch 41/50\n",
      "29399/29399 [==============================] - 3s 112us/step - loss: 0.0450 - acc: 0.9890 - val_loss: 0.1162 - val_acc: 0.9656\n",
      "Epoch 42/50\n",
      "29399/29399 [==============================] - 3s 113us/step - loss: 0.0435 - acc: 0.9894 - val_loss: 0.1187 - val_acc: 0.9656\n",
      "Epoch 43/50\n",
      "29399/29399 [==============================] - 3s 114us/step - loss: 0.0415 - acc: 0.9901 - val_loss: 0.1144 - val_acc: 0.9664\n",
      "Epoch 44/50\n",
      "29399/29399 [==============================] - 3s 112us/step - loss: 0.0398 - acc: 0.9909 - val_loss: 0.1171 - val_acc: 0.9652\n",
      "Epoch 45/50\n",
      "29399/29399 [==============================] - 3s 112us/step - loss: 0.0382 - acc: 0.9916 - val_loss: 0.1189 - val_acc: 0.9646\n",
      "Epoch 46/50\n",
      "29399/29399 [==============================] - 3s 111us/step - loss: 0.0366 - acc: 0.9923 - val_loss: 0.1160 - val_acc: 0.9648\n",
      "Epoch 47/50\n",
      "29399/29399 [==============================] - 3s 114us/step - loss: 0.0351 - acc: 0.9923 - val_loss: 0.1209 - val_acc: 0.9652\n",
      "Epoch 48/50\n",
      "29399/29399 [==============================] - 3s 113us/step - loss: 0.0339 - acc: 0.9926 - val_loss: 0.1171 - val_acc: 0.9666\n"
     ]
    }
   ],
   "source": [
    "model = Sequential() ## Initializes a Model\n",
    "model.add(Dense(100,activation='relu',input_shape=(784,))) # Creates the first layer\n",
    "model.add(Dense(15,activation='relu')) # Creates the second layer\n",
    "model.add(Dense(10,activation='sigmoid'))\n",
    "\n",
    "## SGD - Stochastic Gradient Descent \n",
    "## categorical_crossentropy - Calculates loss for Categorical Targets\n",
    "\n",
    "model.compile(optimizer='SGD',loss='categorical_crossentropy',metrics=['accuracy']) \n",
    "\n",
    "# the EarlyStopping stops the model training if it does not improve after 5 epochs\n",
    "history=model.fit(X,y,validation_split=0.3,callbacks=[EarlyStopping(patience=5)],epochs=50)\n"
   ]
  },
  {
   "cell_type": "markdown",
   "metadata": {},
   "source": [
    "### Architecture "
   ]
  },
  {
   "cell_type": "code",
   "execution_count": 34,
   "metadata": {},
   "outputs": [
    {
     "name": "stdout",
     "output_type": "stream",
     "text": [
      "[<keras.layers.core.Dense object at 0x000001C7A7CA77F0>, <keras.layers.core.Dense object at 0x000001C7A7CA7898>, <keras.layers.core.Dense object at 0x000001C7A7CA7D30>]\n",
      "[<tf.Tensor 'dense_3/Sigmoid:0' shape=(?, 10) dtype=float32>]\n"
     ]
    }
   ],
   "source": [
    "#print(model.summary())\n",
    "\n",
    "print(model.layers)\n",
    "print(model.outputs)"
   ]
  },
  {
   "cell_type": "code",
   "execution_count": 35,
   "metadata": {},
   "outputs": [
    {
     "data": {
      "image/svg+xml": [
       "<svg height=\"264pt\" viewBox=\"0.00 0.00 174.00 264.00\" width=\"174pt\" xmlns=\"http://www.w3.org/2000/svg\" xmlns:xlink=\"http://www.w3.org/1999/xlink\">\n",
       "<g class=\"graph\" id=\"graph0\" transform=\"scale(1 1) rotate(0) translate(4 260)\">\n",
       "<title>G</title>\n",
       "<polygon fill=\"white\" points=\"-4,4 -4,-260 170,-260 170,4 -4,4\" stroke=\"none\"/>\n",
       "<!-- 1957025184288 -->\n",
       "<g class=\"node\" id=\"node1\"><title>1957025184288</title>\n",
       "<polygon fill=\"none\" points=\"0,-219.5 0,-255.5 166,-255.5 166,-219.5 0,-219.5\" stroke=\"black\"/>\n",
       "<text font-family=\"Times New Roman,serif\" font-size=\"14.00\" text-anchor=\"middle\" x=\"83\" y=\"-233.8\">dense_1_input: InputLayer</text>\n",
       "</g>\n",
       "<!-- 1957025183728 -->\n",
       "<g class=\"node\" id=\"node2\"><title>1957025183728</title>\n",
       "<polygon fill=\"none\" points=\"31,-146.5 31,-182.5 135,-182.5 135,-146.5 31,-146.5\" stroke=\"black\"/>\n",
       "<text font-family=\"Times New Roman,serif\" font-size=\"14.00\" text-anchor=\"middle\" x=\"83\" y=\"-160.8\">dense_1: Dense</text>\n",
       "</g>\n",
       "<!-- 1957025184288&#45;&gt;1957025183728 -->\n",
       "<g class=\"edge\" id=\"edge1\"><title>1957025184288-&gt;1957025183728</title>\n",
       "<path d=\"M83,-219.313C83,-211.289 83,-201.547 83,-192.569\" fill=\"none\" stroke=\"black\"/>\n",
       "<polygon fill=\"black\" points=\"86.5001,-192.529 83,-182.529 79.5001,-192.529 86.5001,-192.529\" stroke=\"black\"/>\n",
       "</g>\n",
       "<!-- 1957025183896 -->\n",
       "<g class=\"node\" id=\"node3\"><title>1957025183896</title>\n",
       "<polygon fill=\"none\" points=\"31,-73.5 31,-109.5 135,-109.5 135,-73.5 31,-73.5\" stroke=\"black\"/>\n",
       "<text font-family=\"Times New Roman,serif\" font-size=\"14.00\" text-anchor=\"middle\" x=\"83\" y=\"-87.8\">dense_2: Dense</text>\n",
       "</g>\n",
       "<!-- 1957025183728&#45;&gt;1957025183896 -->\n",
       "<g class=\"edge\" id=\"edge2\"><title>1957025183728-&gt;1957025183896</title>\n",
       "<path d=\"M83,-146.313C83,-138.289 83,-128.547 83,-119.569\" fill=\"none\" stroke=\"black\"/>\n",
       "<polygon fill=\"black\" points=\"86.5001,-119.529 83,-109.529 79.5001,-119.529 86.5001,-119.529\" stroke=\"black\"/>\n",
       "</g>\n",
       "<!-- 1957025185072 -->\n",
       "<g class=\"node\" id=\"node4\"><title>1957025185072</title>\n",
       "<polygon fill=\"none\" points=\"31,-0.5 31,-36.5 135,-36.5 135,-0.5 31,-0.5\" stroke=\"black\"/>\n",
       "<text font-family=\"Times New Roman,serif\" font-size=\"14.00\" text-anchor=\"middle\" x=\"83\" y=\"-14.8\">dense_3: Dense</text>\n",
       "</g>\n",
       "<!-- 1957025183896&#45;&gt;1957025185072 -->\n",
       "<g class=\"edge\" id=\"edge3\"><title>1957025183896-&gt;1957025185072</title>\n",
       "<path d=\"M83,-73.3129C83,-65.2895 83,-55.5475 83,-46.5691\" fill=\"none\" stroke=\"black\"/>\n",
       "<polygon fill=\"black\" points=\"86.5001,-46.5288 83,-36.5288 79.5001,-46.5289 86.5001,-46.5288\" stroke=\"black\"/>\n",
       "</g>\n",
       "</g>\n",
       "</svg>"
      ],
      "text/plain": [
       "<IPython.core.display.SVG object>"
      ]
     },
     "execution_count": 35,
     "metadata": {},
     "output_type": "execute_result"
    }
   ],
   "source": [
    "from IPython.display import SVG\n",
    "from keras.utils.vis_utils import model_to_dot\n",
    "SVG(model_to_dot(model).create(prog='dot', format='svg'))"
   ]
  },
  {
   "cell_type": "markdown",
   "metadata": {},
   "source": [
    "### Explanation\n",
    "\n",
    "\n",
    "\"Dense implements the operation: output = activation(dot(input, kernel) + bias) where activation is the element-wise activation function passed as the activation argument, kernel is a weights matrix created by the layer, and bias is a bias vector created by the layer (only applicable if use_bias is True).\""
   ]
  },
  {
   "cell_type": "markdown",
   "metadata": {},
   "source": [
    "### How did it do"
   ]
  },
  {
   "cell_type": "code",
   "execution_count": 36,
   "metadata": {
    "_cell_guid": "122599f6-5206-6b16-1abc-337ccfc0187b"
   },
   "outputs": [
    {
     "data": {
      "text/plain": [
       "<matplotlib.legend.Legend at 0x1c7bf780080>"
      ]
     },
     "execution_count": 36,
     "metadata": {},
     "output_type": "execute_result"
    },
    {
     "data": {
      "image/png": "[encoded data removed]",
      "text/plain": [
       "<matplotlib.figure.Figure at 0x1c7bf7a0710>"
      ]
     },
     "metadata": {},
     "output_type": "display_data"
    }
   ],
   "source": [
    "# plot loss vs # model epochs trained\n",
    "plt.plot(history.history['val_loss'])\n",
    "plt.plot(history.history['loss'])\n",
    "plt.grid()\n",
    "plt.xlabel('epoch')\n",
    "plt.ylabel('loss')\n",
    "plt.legend(['valid','train'])"
   ]
  },
  {
   "cell_type": "code",
   "execution_count": 37,
   "metadata": {
    "_cell_guid": "d238cf49-4116-a1da-2651-329547deee6a"
   },
   "outputs": [
    {
     "data": {
      "text/plain": [
       "Text(0,0.5,'accuracy')"
      ]
     },
     "execution_count": 37,
     "metadata": {},
     "output_type": "execute_result"
    },
    {
     "data": {
      "image/png": "[encoded data removed]",
      "text/plain": [
       "<matplotlib.figure.Figure at 0x1c7bf7717f0>"
      ]
     },
     "metadata": {},
     "output_type": "display_data"
    }
   ],
   "source": [
    "# plot accuracy vs # epochs\n",
    "plt.plot(history.history['val_acc'])\n",
    "plt.plot(history.history['acc'])\n",
    "plt.legend(['valid','train'])\n",
    "plt.grid()\n",
    "plt.xlabel('epoch')\n",
    "plt.ylabel('accuracy')"
   ]
  },
  {
   "cell_type": "markdown",
   "metadata": {},
   "source": [
    "Reference: Kaggle https://www.kaggle.com/andypicke/introduction-to-deep-learning-with-keras "
   ]
  }
 ],
 "metadata": {
  "_change_revision": 0,
  "_is_fork": false,
  "kernelspec": {
   "display_name": "Python [default]",
   "language": "python",
   "name": "python3"
  },
  "language_info": {
   "codemirror_mode": {
    "name": "ipython",
    "version": 3
   },
   "file_extension": ".py",
   "mimetype": "text/x-python",
   "name": "python",
   "nbconvert_exporter": "python",
   "pygments_lexer": "ipython3",
   "version": "3.6.4"
  }
 },
 "nbformat": 4,
 "nbformat_minor": 1
}
