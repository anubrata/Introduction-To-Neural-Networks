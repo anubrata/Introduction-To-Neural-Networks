{
 "cells": [
  {
   "cell_type": "markdown",
   "metadata": {},
   "source": [
    "## History and Applications"
   ]
  },
  {
   "cell_type": "markdown",
   "metadata": {},
   "source": [
    "#### What are the popular applications of Deep Learning?\n",
    "1. Natural Language Processing \n",
    "2. Computer Vision\n",
    "3. Making Music\n",
    "4. Generating Texts\n",
    "6. Playing games \n",
    ".\n",
    ".\n",
    ".\n",
    "\n",
    "\n",
    "##### Neural Network - The basic bulding block for Deep Learning"
   ]
  },
  {
   "cell_type": "markdown",
   "metadata": {},
   "source": [
    "## Technology Stack"
   ]
  },
  {
   "cell_type": "markdown",
   "metadata": {},
   "source": [
    "**Compute:**  Azure [DSVM](https://docs.microsoft.com/en-us/azure/machine-learning/data-science-virtual-machine/overview)\n",
    "\n",
    "**Language:** [Python (Anaconda)](https://docs.anaconda.com/anaconda/)\n",
    "\n",
    "**Library:** [Keras](https://keras.io/) with [Tensorflow](https://www.tensorflow.org/get_started/eager) backend\n",
    "\n",
    "**Data Set:**  MNIST (Hand Written digit Recognition)\n",
    "              The original dataset was constructed by [Yann LeCun](http://yann.lecun.com/exdb/mnist/)\n",
    "              The Dataset used in this demo is from Kaggle [Digit Recognizer](https://www.kaggle.com/c/digit-recognizer/data)"
   ]
  },
  {
   "cell_type": "markdown",
   "metadata": {},
   "source": [
    "## An MNIST Classifer using Keras"
   ]
  },
  {
   "cell_type": "code",
   "execution_count": 4,
   "metadata": {
    "_cell_guid": "c8baf9b2-0365-0e09-8e38-002cd5b0bbfa"
   },
   "outputs": [],
   "source": [
    "# import libraries\n",
    "import numpy as np # \n",
    "import pandas as pd # \n",
    "%matplotlib inline"
   ]
  },
  {
   "cell_type": "markdown",
   "metadata": {},
   "source": [
    "### How dows the data look like"
   ]
  },
  {
   "cell_type": "code",
   "execution_count": 14,
   "metadata": {
    "_cell_guid": "b17dec30-15ad-f53a-1099-589dd4723233"
   },
   "outputs": [
    {
     "data": {
      "text/html": [
       "<div>\n",
       "<style scoped>\n",
       "    .dataframe tbody tr th:only-of-type {\n",
       "        vertical-align: middle;\n",
       "    }\n",
       "\n",
       "    .dataframe tbody tr th {\n",
       "        vertical-align: top;\n",
       "    }\n",
       "\n",
       "    .dataframe thead th {\n",
       "        text-align: right;\n",
       "    }\n",
       "</style>\n",
       "<table border=\"1\" class=\"dataframe\">\n",
       "  <thead>\n",
       "    <tr style=\"text-align: right;\">\n",
       "      <th></th>\n",
       "      <th>label</th>\n",
       "      <th>pixel0</th>\n",
       "      <th>pixel1</th>\n",
       "      <th>pixel2</th>\n",
       "      <th>pixel3</th>\n",
       "      <th>pixel4</th>\n",
       "      <th>pixel5</th>\n",
       "      <th>pixel6</th>\n",
       "      <th>pixel7</th>\n",
       "      <th>pixel8</th>\n",
       "      <th>...</th>\n",
       "      <th>pixel774</th>\n",
       "      <th>pixel775</th>\n",
       "      <th>pixel776</th>\n",
       "      <th>pixel777</th>\n",
       "      <th>pixel778</th>\n",
       "      <th>pixel779</th>\n",
       "      <th>pixel780</th>\n",
       "      <th>pixel781</th>\n",
       "      <th>pixel782</th>\n",
       "      <th>pixel783</th>\n",
       "    </tr>\n",
       "  </thead>\n",
       "  <tbody>\n",
       "    <tr>\n",
       "      <th>0</th>\n",
       "      <td>1</td>\n",
       "      <td>0</td>\n",
       "      <td>0</td>\n",
       "      <td>0</td>\n",
       "      <td>0</td>\n",
       "      <td>0</td>\n",
       "      <td>0</td>\n",
       "      <td>0</td>\n",
       "      <td>0</td>\n",
       "      <td>0</td>\n",
       "      <td>...</td>\n",
       "      <td>0</td>\n",
       "      <td>0</td>\n",
       "      <td>0</td>\n",
       "      <td>0</td>\n",
       "      <td>0</td>\n",
       "      <td>0</td>\n",
       "      <td>0</td>\n",
       "      <td>0</td>\n",
       "      <td>0</td>\n",
       "      <td>0</td>\n",
       "    </tr>\n",
       "    <tr>\n",
       "      <th>1</th>\n",
       "      <td>0</td>\n",
       "      <td>0</td>\n",
       "      <td>0</td>\n",
       "      <td>0</td>\n",
       "      <td>0</td>\n",
       "      <td>0</td>\n",
       "      <td>0</td>\n",
       "      <td>0</td>\n",
       "      <td>0</td>\n",
       "      <td>0</td>\n",
       "      <td>...</td>\n",
       "      <td>0</td>\n",
       "      <td>0</td>\n",
       "      <td>0</td>\n",
       "      <td>0</td>\n",
       "      <td>0</td>\n",
       "      <td>0</td>\n",
       "      <td>0</td>\n",
       "      <td>0</td>\n",
       "      <td>0</td>\n",
       "      <td>0</td>\n",
       "    </tr>\n",
       "    <tr>\n",
       "      <th>2</th>\n",
       "      <td>1</td>\n",
       "      <td>0</td>\n",
       "      <td>0</td>\n",
       "      <td>0</td>\n",
       "      <td>0</td>\n",
       "      <td>0</td>\n",
       "      <td>0</td>\n",
       "      <td>0</td>\n",
       "      <td>0</td>\n",
       "      <td>0</td>\n",
       "      <td>...</td>\n",
       "      <td>0</td>\n",
       "      <td>0</td>\n",
       "      <td>0</td>\n",
       "      <td>0</td>\n",
       "      <td>0</td>\n",
       "      <td>0</td>\n",
       "      <td>0</td>\n",
       "      <td>0</td>\n",
       "      <td>0</td>\n",
       "      <td>0</td>\n",
       "    </tr>\n",
       "    <tr>\n",
       "      <th>3</th>\n",
       "      <td>4</td>\n",
       "      <td>0</td>\n",
       "      <td>0</td>\n",
       "      <td>0</td>\n",
       "      <td>0</td>\n",
       "      <td>0</td>\n",
       "      <td>0</td>\n",
       "      <td>0</td>\n",
       "      <td>0</td>\n",
       "      <td>0</td>\n",
       "      <td>...</td>\n",
       "      <td>0</td>\n",
       "      <td>0</td>\n",
       "      <td>0</td>\n",
       "      <td>0</td>\n",
       "      <td>0</td>\n",
       "      <td>0</td>\n",
       "      <td>0</td>\n",
       "      <td>0</td>\n",
       "      <td>0</td>\n",
       "      <td>0</td>\n",
       "    </tr>\n",
       "    <tr>\n",
       "      <th>4</th>\n",
       "      <td>0</td>\n",
       "      <td>0</td>\n",
       "      <td>0</td>\n",
       "      <td>0</td>\n",
       "      <td>0</td>\n",
       "      <td>0</td>\n",
       "      <td>0</td>\n",
       "      <td>0</td>\n",
       "      <td>0</td>\n",
       "      <td>0</td>\n",
       "      <td>...</td>\n",
       "      <td>0</td>\n",
       "      <td>0</td>\n",
       "      <td>0</td>\n",
       "      <td>0</td>\n",
       "      <td>0</td>\n",
       "      <td>0</td>\n",
       "      <td>0</td>\n",
       "      <td>0</td>\n",
       "      <td>0</td>\n",
       "      <td>0</td>\n",
       "    </tr>\n",
       "  </tbody>\n",
       "</table>\n",
       "<p>5 rows × 785 columns</p>\n",
       "</div>"
      ],
      "text/plain": [
       "   label  pixel0  pixel1  pixel2  pixel3  pixel4  pixel5  pixel6  pixel7  \\\n",
       "0      1       0       0       0       0       0       0       0       0   \n",
       "1      0       0       0       0       0       0       0       0       0   \n",
       "2      1       0       0       0       0       0       0       0       0   \n",
       "3      4       0       0       0       0       0       0       0       0   \n",
       "4      0       0       0       0       0       0       0       0       0   \n",
       "\n",
       "   pixel8    ...     pixel774  pixel775  pixel776  pixel777  pixel778  \\\n",
       "0       0    ...            0         0         0         0         0   \n",
       "1       0    ...            0         0         0         0         0   \n",
       "2       0    ...            0         0         0         0         0   \n",
       "3       0    ...            0         0         0         0         0   \n",
       "4       0    ...            0         0         0         0         0   \n",
       "\n",
       "   pixel779  pixel780  pixel781  pixel782  pixel783  \n",
       "0         0         0         0         0         0  \n",
       "1         0         0         0         0         0  \n",
       "2         0         0         0         0         0  \n",
       "3         0         0         0         0         0  \n",
       "4         0         0         0         0         0  \n",
       "\n",
       "[5 rows x 785 columns]"
      ]
     },
     "execution_count": 14,
     "metadata": {},
     "output_type": "execute_result"
    }
   ],
   "source": [
    "# load the training data and inspect\n",
    "digits = pd.read_csv('C:/Users/anubrata/Pictures/MNIST/train.csv')\n",
    "digits.head()"
   ]
  },
  {
   "cell_type": "code",
   "execution_count": 21,
   "metadata": {
    "_cell_guid": "cc371177-8cf9-0c92-fe06-32067c1181eb"
   },
   "outputs": [
    {
     "name": "stdout",
     "output_type": "stream",
     "text": [
      "shape of a (784,)\n",
      "shape of b (28, 28)\n",
      "[[  0   0   0   0   0   0   0   0   0   0   0   0   0   0   0   0   0   0\n",
      "    0   0   0   0   0   0   0   0   0   0]\n",
      " [  0   0   0   0   0   0   0   0   0   0   0   0   0   0   0   0   0   0\n",
      "    0   0   0   0   0   0   0   0   0   0]\n",
      " [  0   0   0   0   0   0   0   0   0   0   0   0   0   0   0   0   0   0\n",
      "    0   0   0   0   0   0   0   0   0   0]\n",
      " [  0   0   0   0   0   0   0   0   0   0   0   0   0   0   0   0   0   0\n",
      "    0   0   0   0   0   0   0   0   0   0]\n",
      " [  0   0   0   0   0   0   0   0   0   0   0   0   0   0   0   0   0   0\n",
      "    0   0   0   0   0   0   0   0   0   0]\n",
      " [  0   0   0   0   0   0 220 179   6   0   0   0   0   0   0   0   0   9\n",
      "   77   0   0   0   0   0   0   0   0   0]\n",
      " [  0   0   0   0   0   0  28 247  17   0   0   0   0   0   0   0   0  27\n",
      "  202   0   0   0   0   0   0   0   0   0]\n",
      " [  0   0   0   0   0   0   0 242 155   0   0   0   0   0   0   0   0  27\n",
      "  254  63   0   0   0   0   0   0   0   0]\n",
      " [  0   0   0   0   0   0   0 160 207   6   0   0   0   0   0   0   0  27\n",
      "  254  65   0   0   0   0   0   0   0   0]\n",
      " [  0   0   0   0   0   0   0 127 254  21   0   0   0   0   0   0   0  20\n",
      "  239  65   0   0   0   0   0   0   0   0]\n",
      " [  0   0   0   0   0   0   0  77 254  21   0   0   0   0   0   0   0   0\n",
      "  195  65   0   0   0   0   0   0   0   0]\n",
      " [  0   0   0   0   0   0   0  70 254  21   0   0   0   0   0   0   0   0\n",
      "  195 142   0   0   0   0   0   0   0   0]\n",
      " [  0   0   0   0   0   0   0  56 251  21   0   0   0   0   0   0   0   0\n",
      "  195 227   0   0   0   0   0   0   0   0]\n",
      " [  0   0   0   0   0   0   0   0 222 153   5   0   0   0   0   0   0   0\n",
      "  120 240  13   0   0   0   0   0   0   0]\n",
      " [  0   0   0   0   0   0   0   0  67 251  40   0   0   0   0   0   0   0\n",
      "   94 255  69   0   0   0   0   0   0   0]\n",
      " [  0   0   0   0   0   0   0   0   0 234 184   0   0   0   0   0   0   0\n",
      "   19 245  69   0   0   0   0   0   0   0]\n",
      " [  0   0   0   0   0   0   0   0   0 234 169   0   0   0   0   0   0   0\n",
      "    3 199 182  10   0   0   0   0   0   0]\n",
      " [  0   0   0   0   0   0   0   0   0 154 205   4   0   0  26  72 128 203\n",
      "  208 254 254 131   0   0   0   0   0   0]\n",
      " [  0   0   0   0   0   0   0   0   0  61 254 129 113 186 245 251 189  75\n",
      "   56 136 254  73   0   0   0   0   0   0]\n",
      " [  0   0   0   0   0   0   0   0   0  15 216 233 233 159 104  52   0   0\n",
      "    0  38 254  73   0   0   0   0   0   0]\n",
      " [  0   0   0   0   0   0   0   0   0   0   0   0   0   0   0   0   0   0\n",
      "    0  18 254  73   0   0   0   0   0   0]\n",
      " [  0   0   0   0   0   0   0   0   0   0   0   0   0   0   0   0   0   0\n",
      "    0  18 254  73   0   0   0   0   0   0]\n",
      " [  0   0   0   0   0   0   0   0   0   0   0   0   0   0   0   0   0   0\n",
      "    0   5 206 106   0   0   0   0   0   0]\n",
      " [  0   0   0   0   0   0   0   0   0   0   0   0   0   0   0   0   0   0\n",
      "    0   0 186 159   0   0   0   0   0   0]\n",
      " [  0   0   0   0   0   0   0   0   0   0   0   0   0   0   0   0   0   0\n",
      "    0   6 209 101   0   0   0   0   0   0]\n",
      " [  0   0   0   0   0   0   0   0   0   0   0   0   0   0   0   0   0   0\n",
      "    0   0   0   0   0   0   0   0   0   0]\n",
      " [  0   0   0   0   0   0   0   0   0   0   0   0   0   0   0   0   0   0\n",
      "    0   0   0   0   0   0   0   0   0   0]\n",
      " [  0   0   0   0   0   0   0   0   0   0   0   0   0   0   0   0   0   0\n",
      "    0   0   0   0   0   0   0   0   0   0]]\n"
     ]
    }
   ],
   "source": [
    "# let's look at the structure of one row (image)\n",
    "a = digits.iloc[3,1:].values ## integer-location based indexing for selection by position\n",
    "print(\"shape of a\", a.shape)\n",
    "b = a.reshape((28,28))\n",
    "print(\"shape of b\", b.shape)\n",
    "print(b)"
   ]
  },
  {
   "cell_type": "code",
   "execution_count": 7,
   "metadata": {
    "_cell_guid": "ecc80d9a-2044-cf08-58a8-547fa97088bc"
   },
   "outputs": [
    {
     "data": {
      "text/plain": [
       "<matplotlib.image.AxesImage at 0x16a51eaa240>"
      ]
     },
     "execution_count": 7,
     "metadata": {},
     "output_type": "execute_result"
    },
    {
     "data": {
      "image/png": "[encoded data removed]",
      "text/plain": [
       "<matplotlib.figure.Figure at 0x16a4648abe0>"
      ]
     },
     "metadata": {},
     "output_type": "display_data"
    }
   ],
   "source": [
    "# plot one of the images\n",
    "import matplotlib.pyplot as plt\n",
    "plt.imshow(b)"
   ]
  },
  {
   "cell_type": "code",
   "execution_count": 1,
   "metadata": {
    "_cell_guid": "8aac8289-9884-a064-6f10-f36014fdeabf"
   },
   "outputs": [
    {
     "ename": "NameError",
     "evalue": "name 'digits' is not defined",
     "output_type": "error",
     "traceback": [
      "\u001b[1;31m---------------------------------------------------------------------------\u001b[0m",
      "\u001b[1;31mNameError\u001b[0m                                 Traceback (most recent call last)",
      "\u001b[1;32m<ipython-input-1-ccbcc969e647>\u001b[0m in \u001b[0;36m<module>\u001b[1;34m()\u001b[0m\n\u001b[0;32m      1\u001b[0m \u001b[1;31m# split the training data into predictors (X) and targets (y)\u001b[0m\u001b[1;33m\u001b[0m\u001b[1;33m\u001b[0m\u001b[0m\n\u001b[1;32m----> 2\u001b[1;33m \u001b[0mX\u001b[0m\u001b[1;33m=\u001b[0m\u001b[0mdigits\u001b[0m\u001b[1;33m.\u001b[0m\u001b[0miloc\u001b[0m\u001b[1;33m[\u001b[0m\u001b[1;33m:\u001b[0m\u001b[1;33m,\u001b[0m\u001b[1;36m1\u001b[0m\u001b[1;33m:\u001b[0m\u001b[1;33m]\u001b[0m\u001b[1;33m.\u001b[0m\u001b[0mvalues\u001b[0m\u001b[1;33m\u001b[0m\u001b[0m\n\u001b[0m\u001b[0;32m      3\u001b[0m \u001b[0my\u001b[0m\u001b[1;33m=\u001b[0m\u001b[0mdigits\u001b[0m\u001b[1;33m.\u001b[0m\u001b[0miloc\u001b[0m\u001b[1;33m[\u001b[0m\u001b[1;33m:\u001b[0m\u001b[1;33m,\u001b[0m\u001b[1;36m0\u001b[0m\u001b[1;33m]\u001b[0m\u001b[1;33m.\u001b[0m\u001b[0mvalues\u001b[0m\u001b[1;33m\u001b[0m\u001b[0m\n\u001b[0;32m      4\u001b[0m \u001b[0mprint\u001b[0m\u001b[1;33m(\u001b[0m\u001b[1;34m\"labels\"\u001b[0m\u001b[1;33m,\u001b[0m \u001b[0my\u001b[0m\u001b[1;33m)\u001b[0m\u001b[1;33m\u001b[0m\u001b[0m\n\u001b[0;32m      5\u001b[0m \u001b[0mprint\u001b[0m\u001b[1;33m(\u001b[0m\u001b[0mX\u001b[0m\u001b[1;33m[\u001b[0m\u001b[1;36m1\u001b[0m\u001b[1;33m]\u001b[0m\u001b[1;33m)\u001b[0m\u001b[1;33m\u001b[0m\u001b[0m\n",
      "\u001b[1;31mNameError\u001b[0m: name 'digits' is not defined"
     ]
    }
   ],
   "source": [
    "# split the training data into predictors (X) and targets (y)\n",
    "X=digits.iloc[:,1:].values\n",
    "y=digits.iloc[:,0].values\n",
    "print(\"labels\", y)\n",
    "print(X[1])\n",
    "X=np.divide(X,255.)\n",
    "print(X[1])"
   ]
  },
  {
   "cell_type": "code",
   "execution_count": 67,
   "metadata": {},
   "outputs": [
    {
     "data": {
      "text/plain": [
       "(42000,)"
      ]
     },
     "execution_count": 67,
     "metadata": {},
     "output_type": "execute_result"
    }
   ],
   "source": [
    "y.shape"
   ]
  },
  {
   "cell_type": "code",
   "execution_count": 68,
   "metadata": {},
   "outputs": [],
   "source": [
    "# create dummie variables for the target\n",
    "from keras.utils.np_utils import to_categorical\n",
    "y = to_categorical(y)"
   ]
  },
  {
   "cell_type": "code",
   "execution_count": 69,
   "metadata": {},
   "outputs": [
    {
     "name": "stdout",
     "output_type": "stream",
     "text": [
      "shapre (42000, 10)\n",
      "[[1. 0. 0. 0. 0. 0. 0. 0. 0. 0.]\n",
      " [0. 1. 0. 0. 0. 0. 0. 0. 0. 0.]\n",
      " [0. 0. 0. 0. 1. 0. 0. 0. 0. 0.]\n",
      " [1. 0. 0. 0. 0. 0. 0. 0. 0. 0.]\n",
      " [1. 0. 0. 0. 0. 0. 0. 0. 0. 0.]\n",
      " [0. 0. 0. 0. 0. 0. 0. 1. 0. 0.]\n",
      " [0. 0. 0. 1. 0. 0. 0. 0. 0. 0.]\n",
      " [0. 0. 0. 0. 0. 1. 0. 0. 0. 0.]]\n"
     ]
    }
   ],
   "source": [
    "# create dummie variables for the target\n",
    "print(\"shapre\", y.shape)\n",
    "print(y[1:9])"
   ]
  },
  {
   "cell_type": "code",
   "execution_count": 70,
   "metadata": {
    "_cell_guid": "b2cddfe1-d323-68a2-1ca8-640093b1ea60"
   },
   "outputs": [],
   "source": [
    "import keras\n",
    "from keras.models import Sequential\n",
    "from keras.layers import Dense\n",
    "from keras.callbacks import EarlyStopping\n",
    "from keras import optimizers"
   ]
  },
  {
   "cell_type": "markdown",
   "metadata": {},
   "source": [
    "### The Model"
   ]
  },
  {
   "cell_type": "code",
   "execution_count": 71,
   "metadata": {
    "_cell_guid": "28b4f1bd-403c-ace4-7855-c102384b5c7a"
   },
   "outputs": [
    {
     "name": "stdout",
     "output_type": "stream",
     "text": [
      "Train on 29399 samples, validate on 12601 samples\n",
      "Epoch 1/50\n",
      "29399/29399 [==============================] - 4s 120us/step - loss: 1.7027 - acc: 0.4292 - val_loss: 0.8135 - val_acc: 0.8022\n",
      "Epoch 2/50\n",
      "29399/29399 [==============================] - 3s 112us/step - loss: 0.5535 - acc: 0.8496 - val_loss: 0.4381 - val_acc: 0.8768\n",
      "Epoch 3/50\n",
      "29399/29399 [==============================] - 3s 115us/step - loss: 0.3871 - acc: 0.8911 - val_loss: 0.3494 - val_acc: 0.8994\n",
      "Epoch 4/50\n",
      "29399/29399 [==============================] - 3s 118us/step - loss: 0.3309 - acc: 0.9047 - val_loss: 0.3144 - val_acc: 0.9087\n",
      "Epoch 5/50\n",
      "29399/29399 [==============================] - 3s 114us/step - loss: 0.2956 - acc: 0.9144 - val_loss: 0.2778 - val_acc: 0.9201\n",
      "Epoch 6/50\n",
      "29399/29399 [==============================] - 3s 114us/step - loss: 0.2713 - acc: 0.9215 - val_loss: 0.2637 - val_acc: 0.9213\n",
      "Epoch 7/50\n",
      "29399/29399 [==============================] - 3s 111us/step - loss: 0.2492 - acc: 0.9271 - val_loss: 0.2682 - val_acc: 0.9237\n",
      "Epoch 8/50\n",
      "29399/29399 [==============================] - 3s 114us/step - loss: 0.2322 - acc: 0.9328 - val_loss: 0.2410 - val_acc: 0.9303\n",
      "Epoch 9/50\n",
      "29399/29399 [==============================] - 3s 116us/step - loss: 0.2158 - acc: 0.9375 - val_loss: 0.2302 - val_acc: 0.9310\n",
      "Epoch 10/50\n",
      "29399/29399 [==============================] - 3s 111us/step - loss: 0.2007 - acc: 0.9425 - val_loss: 0.2057 - val_acc: 0.9392\n",
      "Epoch 11/50\n",
      "29399/29399 [==============================] - 3s 112us/step - loss: 0.1873 - acc: 0.9451 - val_loss: 0.1964 - val_acc: 0.9418\n",
      "Epoch 12/50\n",
      "29399/29399 [==============================] - 3s 114us/step - loss: 0.1766 - acc: 0.9491 - val_loss: 0.1867 - val_acc: 0.9440\n",
      "Epoch 13/50\n",
      "29399/29399 [==============================] - 3s 115us/step - loss: 0.1655 - acc: 0.9532 - val_loss: 0.1797 - val_acc: 0.9473\n",
      "Epoch 14/50\n",
      "29399/29399 [==============================] - 3s 111us/step - loss: 0.1563 - acc: 0.9555 - val_loss: 0.1752 - val_acc: 0.9490\n",
      "Epoch 15/50\n",
      "29399/29399 [==============================] - 3s 111us/step - loss: 0.1471 - acc: 0.9582 - val_loss: 0.1726 - val_acc: 0.9474\n",
      "Epoch 16/50\n",
      "29399/29399 [==============================] - 3s 111us/step - loss: 0.1395 - acc: 0.9595 - val_loss: 0.1665 - val_acc: 0.9501\n",
      "Epoch 17/50\n",
      "29399/29399 [==============================] - 3s 114us/step - loss: 0.1322 - acc: 0.9621 - val_loss: 0.1638 - val_acc: 0.9528\n",
      "Epoch 18/50\n",
      "29399/29399 [==============================] - 3s 113us/step - loss: 0.1257 - acc: 0.9643 - val_loss: 0.1520 - val_acc: 0.9552\n",
      "Epoch 19/50\n",
      "29399/29399 [==============================] - 3s 111us/step - loss: 0.1192 - acc: 0.9664 - val_loss: 0.1509 - val_acc: 0.9575\n",
      "Epoch 20/50\n",
      "29399/29399 [==============================] - 3s 112us/step - loss: 0.1134 - acc: 0.9681 - val_loss: 0.1466 - val_acc: 0.9576\n",
      "Epoch 21/50\n",
      "29399/29399 [==============================] - 3s 113us/step - loss: 0.1080 - acc: 0.9701 - val_loss: 0.1428 - val_acc: 0.9569\n",
      "Epoch 22/50\n",
      "29399/29399 [==============================] - 4s 122us/step - loss: 0.1030 - acc: 0.9715 - val_loss: 0.1464 - val_acc: 0.9558\n",
      "Epoch 23/50\n",
      "29399/29399 [==============================] - 3s 111us/step - loss: 0.0986 - acc: 0.9717 - val_loss: 0.1405 - val_acc: 0.9588\n",
      "Epoch 24/50\n",
      "29399/29399 [==============================] - 3s 112us/step - loss: 0.0935 - acc: 0.9747 - val_loss: 0.1436 - val_acc: 0.9577\n",
      "Epoch 25/50\n",
      "29399/29399 [==============================] - 3s 110us/step - loss: 0.0890 - acc: 0.9752 - val_loss: 0.1356 - val_acc: 0.9602\n",
      "Epoch 26/50\n",
      "29399/29399 [==============================] - 3s 113us/step - loss: 0.0851 - acc: 0.9769 - val_loss: 0.1364 - val_acc: 0.9590\n",
      "Epoch 27/50\n",
      "29399/29399 [==============================] - 3s 114us/step - loss: 0.0813 - acc: 0.9778 - val_loss: 0.1344 - val_acc: 0.9599\n",
      "Epoch 28/50\n",
      "29399/29399 [==============================] - 3s 112us/step - loss: 0.0774 - acc: 0.9793 - val_loss: 0.1339 - val_acc: 0.9617\n",
      "Epoch 29/50\n",
      "29399/29399 [==============================] - 3s 112us/step - loss: 0.0743 - acc: 0.9798 - val_loss: 0.1241 - val_acc: 0.9637\n",
      "Epoch 30/50\n",
      "29399/29399 [==============================] - 3s 114us/step - loss: 0.0709 - acc: 0.9805 - val_loss: 0.1241 - val_acc: 0.9637\n",
      "Epoch 31/50\n",
      "29399/29399 [==============================] - 4s 120us/step - loss: 0.0678 - acc: 0.9817 - val_loss: 0.1225 - val_acc: 0.9635\n",
      "Epoch 32/50\n",
      "29399/29399 [==============================] - 3s 114us/step - loss: 0.0652 - acc: 0.9831 - val_loss: 0.1199 - val_acc: 0.9653\n",
      "Epoch 33/50\n",
      "29399/29399 [==============================] - 3s 116us/step - loss: 0.0619 - acc: 0.9834 - val_loss: 0.1191 - val_acc: 0.9644\n",
      "Epoch 34/50\n",
      "29399/29399 [==============================] - 3s 113us/step - loss: 0.0591 - acc: 0.9845 - val_loss: 0.1236 - val_acc: 0.9642\n",
      "Epoch 35/50\n",
      "29399/29399 [==============================] - 3s 118us/step - loss: 0.0569 - acc: 0.9853 - val_loss: 0.1240 - val_acc: 0.9633\n",
      "Epoch 36/50\n",
      "29399/29399 [==============================] - 3s 115us/step - loss: 0.0540 - acc: 0.9858 - val_loss: 0.1171 - val_acc: 0.9648\n",
      "Epoch 37/50\n",
      "29399/29399 [==============================] - 3s 112us/step - loss: 0.0519 - acc: 0.9868 - val_loss: 0.1184 - val_acc: 0.9645\n",
      "Epoch 38/50\n",
      "29399/29399 [==============================] - 3s 113us/step - loss: 0.0500 - acc: 0.9875 - val_loss: 0.1165 - val_acc: 0.9655\n",
      "Epoch 39/50\n",
      "29399/29399 [==============================] - 3s 114us/step - loss: 0.0476 - acc: 0.9885 - val_loss: 0.1166 - val_acc: 0.9666\n",
      "Epoch 40/50\n",
      "29399/29399 [==============================] - 3s 117us/step - loss: 0.0458 - acc: 0.9890 - val_loss: 0.1180 - val_acc: 0.9651\n",
      "Epoch 41/50\n",
      "29399/29399 [==============================] - 3s 112us/step - loss: 0.0441 - acc: 0.9894 - val_loss: 0.1148 - val_acc: 0.9664\n",
      "Epoch 42/50\n",
      "29399/29399 [==============================] - 3s 112us/step - loss: 0.0422 - acc: 0.9899 - val_loss: 0.1158 - val_acc: 0.9652\n",
      "Epoch 43/50\n",
      "29399/29399 [==============================] - 3s 111us/step - loss: 0.0405 - acc: 0.9906 - val_loss: 0.1160 - val_acc: 0.9664\n",
      "Epoch 44/50\n",
      "29399/29399 [==============================] - 3s 114us/step - loss: 0.0389 - acc: 0.9912 - val_loss: 0.1208 - val_acc: 0.9640\n",
      "Epoch 45/50\n",
      "29399/29399 [==============================] - 3s 115us/step - loss: 0.0372 - acc: 0.9918 - val_loss: 0.1179 - val_acc: 0.9669\n",
      "Epoch 46/50\n",
      "29399/29399 [==============================] - 3s 113us/step - loss: 0.0355 - acc: 0.9924 - val_loss: 0.1140 - val_acc: 0.9670\n",
      "Epoch 47/50\n",
      "29399/29399 [==============================] - 3s 112us/step - loss: 0.0343 - acc: 0.9924 - val_loss: 0.1154 - val_acc: 0.9668\n",
      "Epoch 48/50\n",
      "29399/29399 [==============================] - 3s 114us/step - loss: 0.0328 - acc: 0.9929 - val_loss: 0.1149 - val_acc: 0.9673\n",
      "Epoch 49/50\n",
      "29399/29399 [==============================] - 3s 117us/step - loss: 0.0315 - acc: 0.9936 - val_loss: 0.1179 - val_acc: 0.9664\n",
      "Epoch 50/50\n",
      "29399/29399 [==============================] - 3s 114us/step - loss: 0.0303 - acc: 0.9941 - val_loss: 0.1149 - val_acc: 0.9676\n"
     ]
    }
   ],
   "source": [
    "model = Sequential() ## Initializes a Model\n",
    "model.add(Dense(100,activation='relu',input_shape=(784,))) # Creates the first layer\n",
    "model.add(Dense(15,activation='relu')) # Creates the second layer\n",
    "model.add(Dense(10,activation='sigmoid')) # Creates the output layer\n",
    "\n",
    "## SGD - Stochastic Gradient Descent \n",
    "## categorical_crossentropy - Calculates loss for Categorical Targets\n",
    "\n",
    "model.compile(optimizer='SGD',loss='categorical_crossentropy',metrics=['accuracy']) \n",
    "\n",
    "# the EarlyStopping stops the model training if it does not improve after 5 epochs\n",
    "history=model.fit(X,y,validation_split=0.3,callbacks=[EarlyStopping(patience=5)],epochs=50)\n"
   ]
  },
  {
   "cell_type": "markdown",
   "metadata": {},
   "source": [
    "### Architecture "
   ]
  },
  {
   "cell_type": "code",
   "execution_count": 89,
   "metadata": {},
   "outputs": [
    {
     "data": {
      "image/svg+xml": [
       "<svg height=\"264pt\" viewBox=\"0.00 0.00 181.00 264.00\" width=\"181pt\" xmlns=\"http://www.w3.org/2000/svg\" xmlns:xlink=\"http://www.w3.org/1999/xlink\">\n",
       "<g class=\"graph\" id=\"graph0\" transform=\"scale(1 1) rotate(0) translate(4 260)\">\n",
       "<title>G</title>\n",
       "<polygon fill=\"white\" points=\"-4,4 -4,-260 177,-260 177,4 -4,4\" stroke=\"none\"/>\n",
       "<!-- 1556878814736 -->\n",
       "<g class=\"node\" id=\"node1\"><title>1556878814736</title>\n",
       "<polygon fill=\"none\" points=\"0,-219.5 0,-255.5 173,-255.5 173,-219.5 0,-219.5\" stroke=\"black\"/>\n",
       "<text font-family=\"Times New Roman,serif\" font-size=\"14.00\" text-anchor=\"middle\" x=\"86.5\" y=\"-233.8\">dense_14_input: InputLayer</text>\n",
       "</g>\n",
       "<!-- 1556871032112 -->\n",
       "<g class=\"node\" id=\"node2\"><title>1556871032112</title>\n",
       "<polygon fill=\"none\" points=\"31,-146.5 31,-182.5 142,-182.5 142,-146.5 31,-146.5\" stroke=\"black\"/>\n",
       "<text font-family=\"Times New Roman,serif\" font-size=\"14.00\" text-anchor=\"middle\" x=\"86.5\" y=\"-160.8\">dense_14: Dense</text>\n",
       "</g>\n",
       "<!-- 1556878814736&#45;&gt;1556871032112 -->\n",
       "<g class=\"edge\" id=\"edge1\"><title>1556878814736-&gt;1556871032112</title>\n",
       "<path d=\"M86.5,-219.313C86.5,-211.289 86.5,-201.547 86.5,-192.569\" fill=\"none\" stroke=\"black\"/>\n",
       "<polygon fill=\"black\" points=\"90.0001,-192.529 86.5,-182.529 83.0001,-192.529 90.0001,-192.529\" stroke=\"black\"/>\n",
       "</g>\n",
       "<!-- 1556870924832 -->\n",
       "<g class=\"node\" id=\"node3\"><title>1556870924832</title>\n",
       "<polygon fill=\"none\" points=\"31,-73.5 31,-109.5 142,-109.5 142,-73.5 31,-73.5\" stroke=\"black\"/>\n",
       "<text font-family=\"Times New Roman,serif\" font-size=\"14.00\" text-anchor=\"middle\" x=\"86.5\" y=\"-87.8\">dense_15: Dense</text>\n",
       "</g>\n",
       "<!-- 1556871032112&#45;&gt;1556870924832 -->\n",
       "<g class=\"edge\" id=\"edge2\"><title>1556871032112-&gt;1556870924832</title>\n",
       "<path d=\"M86.5,-146.313C86.5,-138.289 86.5,-128.547 86.5,-119.569\" fill=\"none\" stroke=\"black\"/>\n",
       "<polygon fill=\"black\" points=\"90.0001,-119.529 86.5,-109.529 83.0001,-119.529 90.0001,-119.529\" stroke=\"black\"/>\n",
       "</g>\n",
       "<!-- 1556878918488 -->\n",
       "<g class=\"node\" id=\"node4\"><title>1556878918488</title>\n",
       "<polygon fill=\"none\" points=\"31,-0.5 31,-36.5 142,-36.5 142,-0.5 31,-0.5\" stroke=\"black\"/>\n",
       "<text font-family=\"Times New Roman,serif\" font-size=\"14.00\" text-anchor=\"middle\" x=\"86.5\" y=\"-14.8\">dense_16: Dense</text>\n",
       "</g>\n",
       "<!-- 1556870924832&#45;&gt;1556878918488 -->\n",
       "<g class=\"edge\" id=\"edge3\"><title>1556870924832-&gt;1556878918488</title>\n",
       "<path d=\"M86.5,-73.3129C86.5,-65.2895 86.5,-55.5475 86.5,-46.5691\" fill=\"none\" stroke=\"black\"/>\n",
       "<polygon fill=\"black\" points=\"90.0001,-46.5288 86.5,-36.5288 83.0001,-46.5289 90.0001,-46.5288\" stroke=\"black\"/>\n",
       "</g>\n",
       "</g>\n",
       "</svg>"
      ],
      "text/plain": [
       "<IPython.core.display.SVG object>"
      ]
     },
     "execution_count": 89,
     "metadata": {},
     "output_type": "execute_result"
    }
   ],
   "source": [
    "from IPython.display import SVG\n",
    "from keras.utils.vis_utils import model_to_dot\n",
    "SVG(model_to_dot(model).create(prog='dot', format='svg'))"
   ]
  },
  {
   "cell_type": "markdown",
   "metadata": {},
   "source": [
    "### Explanation\n",
    "\n",
    "\n",
    "\"Dense implements the operation: output = activation(dot(input, kernel) + bias) where activation is the element-wise activation function passed as the activation argument, kernel is a weights matrix created by the layer, and bias is a bias vector created by the layer (only applicable if use_bias is True).\""
   ]
  },
  {
   "cell_type": "markdown",
   "metadata": {},
   "source": [
    "### How did it do"
   ]
  },
  {
   "cell_type": "code",
   "execution_count": 90,
   "metadata": {
    "_cell_guid": "122599f6-5206-6b16-1abc-337ccfc0187b"
   },
   "outputs": [
    {
     "data": {
      "text/plain": [
       "<matplotlib.legend.Legend at 0x16a7ddd55c0>"
      ]
     },
     "execution_count": 90,
     "metadata": {},
     "output_type": "execute_result"
    },
    {
     "data": {
      "image/png": "[encoded data removed]",
      "text/plain": [
       "<matplotlib.figure.Figure at 0x16a7da31080>"
      ]
     },
     "metadata": {},
     "output_type": "display_data"
    }
   ],
   "source": [
    "# plot loss vs # model epochs trained\n",
    "plt.plot(history.history['val_loss'])\n",
    "plt.plot(history.history['loss'])\n",
    "plt.grid()\n",
    "plt.xlabel('epoch')\n",
    "plt.ylabel('loss')\n",
    "plt.legend(['valid','train'])"
   ]
  },
  {
   "cell_type": "code",
   "execution_count": 91,
   "metadata": {
    "_cell_guid": "d238cf49-4116-a1da-2651-329547deee6a"
   },
   "outputs": [
    {
     "data": {
      "text/plain": [
       "Text(0,0.5,'accuracy')"
      ]
     },
     "execution_count": 91,
     "metadata": {},
     "output_type": "execute_result"
    },
    {
     "data": {
      "image/png": "[encoded data removed]",
      "text/plain": [
       "<matplotlib.figure.Figure at 0x16a7dc0b550>"
      ]
     },
     "metadata": {},
     "output_type": "display_data"
    }
   ],
   "source": [
    "# plot accuracy vs # epochs\n",
    "plt.plot(history.history['val_acc'])\n",
    "plt.plot(history.history['acc'])\n",
    "plt.legend(['valid','train'])\n",
    "plt.grid()\n",
    "plt.xlabel('epoch')\n",
    "plt.ylabel('accuracy')"
   ]
  },
  {
   "cell_type": "markdown",
   "metadata": {},
   "source": [
    "Reference: Kaggle https://www.kaggle.com/andypicke/introduction-to-deep-learning-with-keras "
   ]
  }
 ],
 "metadata": {
  "_change_revision": 0,
  "_is_fork": false,
  "kernelspec": {
   "display_name": "Python 3",
   "language": "python",
   "name": "python3"
  },
  "language_info": {
   "codemirror_mode": {
    "name": "ipython",
    "version": 3
   },
   "file_extension": ".py",
   "mimetype": "text/x-python",
   "name": "python",
   "nbconvert_exporter": "python",
   "pygments_lexer": "ipython3",
   "version": "3.6.4"
  }
 },
 "nbformat": 4,
 "nbformat_minor": 1
}
